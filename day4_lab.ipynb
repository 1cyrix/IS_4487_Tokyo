{
  "cells": [
    {
      "cell_type": "markdown",
      "metadata": {
        "id": "p_Yu45OYdj3Y"
      },
      "source": [
        "# Day 4 Lab, IS 4487\n",
        "\n",
        "This lab is designed specifically to prepare you to complete the project assignment for today. We will go through code (using the MegaTelCo data as an example) that you will be able to adapt for the AdviseInvest project. Here is what you need to be able to do:\n",
        "\n",
        "1. Identify the target variable for an analysis based on the business problem.\n",
        "2. Clean the data by removing NAs, and filtering out rows with incorrect values.\n",
        "3. Identify and recode features that should be categorical (or factor) variables.\n",
        "4.  Compute the mean of a binary variable.\n",
        "\n",
        "In addition we will do a bit more EDA on the MegaTelCo data, as preparation for tomorrow's project assignment."
      ]
    },
    {
      "cell_type": "markdown",
      "metadata": {
        "id": "UE93RwXhgiJS"
      },
      "source": [
        "# Load Libraries"
      ]
    },
    {
      "cell_type": "code",
      "execution_count": 2,
      "metadata": {
        "id": "JYRZY5n0gfNe"
      },
      "outputs": [],
      "source": [
        "import pandas as pd\n",
        "import matplotlib as mpl\n"
      ]
    },
    {
      "cell_type": "markdown",
      "metadata": {
        "id": "bREaXo8jfu-O"
      },
      "source": [
        "# Load Data\n"
      ]
    },
    {
      "cell_type": "code",
      "execution_count": 3,
      "metadata": {
        "id": "6_FwprxVgR0e"
      },
      "outputs": [],
      "source": [
        "mtc = pd.read_csv(\"https://raw.githubusercontent.com/jefftwebb/is_4487_base/dd870389117d5b24eee7417d5378d80496555130/Labs/DataSets/megatelco_leave_survey.csv\")\n"
      ]
    },
    {
      "cell_type": "markdown",
      "source": [
        "# 1. Clean Data"
      ],
      "metadata": {
        "id": "QDSnEuKWUhfW"
      }
    },
    {
      "cell_type": "markdown",
      "source": [
        "Recall that we use square bracket notation with logical conditions to create a boolean mask for filtering:"
      ],
      "metadata": {
        "id": "gebuAeaVTvoP"
      }
    },
    {
      "cell_type": "code",
      "source": [
        "mtc_clean = mtc[(mtc['house'] > 0) & (mtc['income'] > 0) & (mtc['handset_price'] < 1000)]\n",
        "\n",
        "mtc_clean.describe()"
      ],
      "metadata": {
        "id": "pFkEZDN-hKVT",
        "outputId": "a3ae48f1-49b3-473e-d6f3-988b6e258dfc",
        "colab": {
          "base_uri": "https://localhost:8080/",
          "height": 320
        },
        "collapsed": true
      },
      "execution_count": 4,
      "outputs": [
        {
          "output_type": "execute_result",
          "data": {
            "text/plain": [
              "              income      overage     leftover           house  handset_price  \\\n",
              "count    4997.000000  4997.000000  4997.000000     4997.000000    4997.000000   \n",
              "mean    79918.829498    85.116270    24.247549   494019.823294     387.558935   \n",
              "std     41673.392025    85.638266    26.848091   253648.357473     213.614256   \n",
              "min     20028.000000     0.000000     0.000000   150305.000000     130.000000   \n",
              "25%     41593.000000     0.000000     0.000000   260729.000000     219.000000   \n",
              "50%     75026.000000    59.000000    15.000000   452277.000000     322.000000   \n",
              "75%    115464.000000   177.000000    42.000000   701614.000000     528.000000   \n",
              "max    159938.000000   335.000000    89.000000  1000000.000000     899.000000   \n",
              "\n",
              "       over_15mins_calls_per_month  average_call_duration            id  \n",
              "count                  4994.000000            4997.000000   4997.000000  \n",
              "mean                      7.739287               5.957174  10034.365619  \n",
              "std                       8.802897               4.388938   5814.189195  \n",
              "min                       0.000000               1.000000      2.000000  \n",
              "25%                       1.000000               2.000000   4949.000000  \n",
              "50%                       4.000000               5.000000  10125.000000  \n",
              "75%                      14.000000               9.000000  15084.000000  \n",
              "max                      29.000000              15.000000  20000.000000  "
            ],
            "text/html": [
              "\n",
              "  <div id=\"df-370473f8-484c-446b-8d53-75e3a6ef75ad\" class=\"colab-df-container\">\n",
              "    <div>\n",
              "<style scoped>\n",
              "    .dataframe tbody tr th:only-of-type {\n",
              "        vertical-align: middle;\n",
              "    }\n",
              "\n",
              "    .dataframe tbody tr th {\n",
              "        vertical-align: top;\n",
              "    }\n",
              "\n",
              "    .dataframe thead th {\n",
              "        text-align: right;\n",
              "    }\n",
              "</style>\n",
              "<table border=\"1\" class=\"dataframe\">\n",
              "  <thead>\n",
              "    <tr style=\"text-align: right;\">\n",
              "      <th></th>\n",
              "      <th>income</th>\n",
              "      <th>overage</th>\n",
              "      <th>leftover</th>\n",
              "      <th>house</th>\n",
              "      <th>handset_price</th>\n",
              "      <th>over_15mins_calls_per_month</th>\n",
              "      <th>average_call_duration</th>\n",
              "      <th>id</th>\n",
              "    </tr>\n",
              "  </thead>\n",
              "  <tbody>\n",
              "    <tr>\n",
              "      <th>count</th>\n",
              "      <td>4997.000000</td>\n",
              "      <td>4997.000000</td>\n",
              "      <td>4997.000000</td>\n",
              "      <td>4997.000000</td>\n",
              "      <td>4997.000000</td>\n",
              "      <td>4994.000000</td>\n",
              "      <td>4997.000000</td>\n",
              "      <td>4997.000000</td>\n",
              "    </tr>\n",
              "    <tr>\n",
              "      <th>mean</th>\n",
              "      <td>79918.829498</td>\n",
              "      <td>85.116270</td>\n",
              "      <td>24.247549</td>\n",
              "      <td>494019.823294</td>\n",
              "      <td>387.558935</td>\n",
              "      <td>7.739287</td>\n",
              "      <td>5.957174</td>\n",
              "      <td>10034.365619</td>\n",
              "    </tr>\n",
              "    <tr>\n",
              "      <th>std</th>\n",
              "      <td>41673.392025</td>\n",
              "      <td>85.638266</td>\n",
              "      <td>26.848091</td>\n",
              "      <td>253648.357473</td>\n",
              "      <td>213.614256</td>\n",
              "      <td>8.802897</td>\n",
              "      <td>4.388938</td>\n",
              "      <td>5814.189195</td>\n",
              "    </tr>\n",
              "    <tr>\n",
              "      <th>min</th>\n",
              "      <td>20028.000000</td>\n",
              "      <td>0.000000</td>\n",
              "      <td>0.000000</td>\n",
              "      <td>150305.000000</td>\n",
              "      <td>130.000000</td>\n",
              "      <td>0.000000</td>\n",
              "      <td>1.000000</td>\n",
              "      <td>2.000000</td>\n",
              "    </tr>\n",
              "    <tr>\n",
              "      <th>25%</th>\n",
              "      <td>41593.000000</td>\n",
              "      <td>0.000000</td>\n",
              "      <td>0.000000</td>\n",
              "      <td>260729.000000</td>\n",
              "      <td>219.000000</td>\n",
              "      <td>1.000000</td>\n",
              "      <td>2.000000</td>\n",
              "      <td>4949.000000</td>\n",
              "    </tr>\n",
              "    <tr>\n",
              "      <th>50%</th>\n",
              "      <td>75026.000000</td>\n",
              "      <td>59.000000</td>\n",
              "      <td>15.000000</td>\n",
              "      <td>452277.000000</td>\n",
              "      <td>322.000000</td>\n",
              "      <td>4.000000</td>\n",
              "      <td>5.000000</td>\n",
              "      <td>10125.000000</td>\n",
              "    </tr>\n",
              "    <tr>\n",
              "      <th>75%</th>\n",
              "      <td>115464.000000</td>\n",
              "      <td>177.000000</td>\n",
              "      <td>42.000000</td>\n",
              "      <td>701614.000000</td>\n",
              "      <td>528.000000</td>\n",
              "      <td>14.000000</td>\n",
              "      <td>9.000000</td>\n",
              "      <td>15084.000000</td>\n",
              "    </tr>\n",
              "    <tr>\n",
              "      <th>max</th>\n",
              "      <td>159938.000000</td>\n",
              "      <td>335.000000</td>\n",
              "      <td>89.000000</td>\n",
              "      <td>1000000.000000</td>\n",
              "      <td>899.000000</td>\n",
              "      <td>29.000000</td>\n",
              "      <td>15.000000</td>\n",
              "      <td>20000.000000</td>\n",
              "    </tr>\n",
              "  </tbody>\n",
              "</table>\n",
              "</div>\n",
              "    <div class=\"colab-df-buttons\">\n",
              "\n",
              "  <div class=\"colab-df-container\">\n",
              "    <button class=\"colab-df-convert\" onclick=\"convertToInteractive('df-370473f8-484c-446b-8d53-75e3a6ef75ad')\"\n",
              "            title=\"Convert this dataframe to an interactive table.\"\n",
              "            style=\"display:none;\">\n",
              "\n",
              "  <svg xmlns=\"http://www.w3.org/2000/svg\" height=\"24px\" viewBox=\"0 -960 960 960\">\n",
              "    <path d=\"M120-120v-720h720v720H120Zm60-500h600v-160H180v160Zm220 220h160v-160H400v160Zm0 220h160v-160H400v160ZM180-400h160v-160H180v160Zm440 0h160v-160H620v160ZM180-180h160v-160H180v160Zm440 0h160v-160H620v160Z\"/>\n",
              "  </svg>\n",
              "    </button>\n",
              "\n",
              "  <style>\n",
              "    .colab-df-container {\n",
              "      display:flex;\n",
              "      gap: 12px;\n",
              "    }\n",
              "\n",
              "    .colab-df-convert {\n",
              "      background-color: #E8F0FE;\n",
              "      border: none;\n",
              "      border-radius: 50%;\n",
              "      cursor: pointer;\n",
              "      display: none;\n",
              "      fill: #1967D2;\n",
              "      height: 32px;\n",
              "      padding: 0 0 0 0;\n",
              "      width: 32px;\n",
              "    }\n",
              "\n",
              "    .colab-df-convert:hover {\n",
              "      background-color: #E2EBFA;\n",
              "      box-shadow: 0px 1px 2px rgba(60, 64, 67, 0.3), 0px 1px 3px 1px rgba(60, 64, 67, 0.15);\n",
              "      fill: #174EA6;\n",
              "    }\n",
              "\n",
              "    .colab-df-buttons div {\n",
              "      margin-bottom: 4px;\n",
              "    }\n",
              "\n",
              "    [theme=dark] .colab-df-convert {\n",
              "      background-color: #3B4455;\n",
              "      fill: #D2E3FC;\n",
              "    }\n",
              "\n",
              "    [theme=dark] .colab-df-convert:hover {\n",
              "      background-color: #434B5C;\n",
              "      box-shadow: 0px 1px 3px 1px rgba(0, 0, 0, 0.15);\n",
              "      filter: drop-shadow(0px 1px 2px rgba(0, 0, 0, 0.3));\n",
              "      fill: #FFFFFF;\n",
              "    }\n",
              "  </style>\n",
              "\n",
              "    <script>\n",
              "      const buttonEl =\n",
              "        document.querySelector('#df-370473f8-484c-446b-8d53-75e3a6ef75ad button.colab-df-convert');\n",
              "      buttonEl.style.display =\n",
              "        google.colab.kernel.accessAllowed ? 'block' : 'none';\n",
              "\n",
              "      async function convertToInteractive(key) {\n",
              "        const element = document.querySelector('#df-370473f8-484c-446b-8d53-75e3a6ef75ad');\n",
              "        const dataTable =\n",
              "          await google.colab.kernel.invokeFunction('convertToInteractive',\n",
              "                                                    [key], {});\n",
              "        if (!dataTable) return;\n",
              "\n",
              "        const docLinkHtml = 'Like what you see? Visit the ' +\n",
              "          '<a target=\"_blank\" href=https://colab.research.google.com/notebooks/data_table.ipynb>data table notebook</a>'\n",
              "          + ' to learn more about interactive tables.';\n",
              "        element.innerHTML = '';\n",
              "        dataTable['output_type'] = 'display_data';\n",
              "        await google.colab.output.renderOutput(dataTable, element);\n",
              "        const docLink = document.createElement('div');\n",
              "        docLink.innerHTML = docLinkHtml;\n",
              "        element.appendChild(docLink);\n",
              "      }\n",
              "    </script>\n",
              "  </div>\n",
              "\n",
              "\n",
              "<div id=\"df-3884915e-186c-4d9f-8c3f-ab0693f2c006\">\n",
              "  <button class=\"colab-df-quickchart\" onclick=\"quickchart('df-3884915e-186c-4d9f-8c3f-ab0693f2c006')\"\n",
              "            title=\"Suggest charts\"\n",
              "            style=\"display:none;\">\n",
              "\n",
              "<svg xmlns=\"http://www.w3.org/2000/svg\" height=\"24px\"viewBox=\"0 0 24 24\"\n",
              "     width=\"24px\">\n",
              "    <g>\n",
              "        <path d=\"M19 3H5c-1.1 0-2 .9-2 2v14c0 1.1.9 2 2 2h14c1.1 0 2-.9 2-2V5c0-1.1-.9-2-2-2zM9 17H7v-7h2v7zm4 0h-2V7h2v10zm4 0h-2v-4h2v4z\"/>\n",
              "    </g>\n",
              "</svg>\n",
              "  </button>\n",
              "\n",
              "<style>\n",
              "  .colab-df-quickchart {\n",
              "      --bg-color: #E8F0FE;\n",
              "      --fill-color: #1967D2;\n",
              "      --hover-bg-color: #E2EBFA;\n",
              "      --hover-fill-color: #174EA6;\n",
              "      --disabled-fill-color: #AAA;\n",
              "      --disabled-bg-color: #DDD;\n",
              "  }\n",
              "\n",
              "  [theme=dark] .colab-df-quickchart {\n",
              "      --bg-color: #3B4455;\n",
              "      --fill-color: #D2E3FC;\n",
              "      --hover-bg-color: #434B5C;\n",
              "      --hover-fill-color: #FFFFFF;\n",
              "      --disabled-bg-color: #3B4455;\n",
              "      --disabled-fill-color: #666;\n",
              "  }\n",
              "\n",
              "  .colab-df-quickchart {\n",
              "    background-color: var(--bg-color);\n",
              "    border: none;\n",
              "    border-radius: 50%;\n",
              "    cursor: pointer;\n",
              "    display: none;\n",
              "    fill: var(--fill-color);\n",
              "    height: 32px;\n",
              "    padding: 0;\n",
              "    width: 32px;\n",
              "  }\n",
              "\n",
              "  .colab-df-quickchart:hover {\n",
              "    background-color: var(--hover-bg-color);\n",
              "    box-shadow: 0 1px 2px rgba(60, 64, 67, 0.3), 0 1px 3px 1px rgba(60, 64, 67, 0.15);\n",
              "    fill: var(--button-hover-fill-color);\n",
              "  }\n",
              "\n",
              "  .colab-df-quickchart-complete:disabled,\n",
              "  .colab-df-quickchart-complete:disabled:hover {\n",
              "    background-color: var(--disabled-bg-color);\n",
              "    fill: var(--disabled-fill-color);\n",
              "    box-shadow: none;\n",
              "  }\n",
              "\n",
              "  .colab-df-spinner {\n",
              "    border: 2px solid var(--fill-color);\n",
              "    border-color: transparent;\n",
              "    border-bottom-color: var(--fill-color);\n",
              "    animation:\n",
              "      spin 1s steps(1) infinite;\n",
              "  }\n",
              "\n",
              "  @keyframes spin {\n",
              "    0% {\n",
              "      border-color: transparent;\n",
              "      border-bottom-color: var(--fill-color);\n",
              "      border-left-color: var(--fill-color);\n",
              "    }\n",
              "    20% {\n",
              "      border-color: transparent;\n",
              "      border-left-color: var(--fill-color);\n",
              "      border-top-color: var(--fill-color);\n",
              "    }\n",
              "    30% {\n",
              "      border-color: transparent;\n",
              "      border-left-color: var(--fill-color);\n",
              "      border-top-color: var(--fill-color);\n",
              "      border-right-color: var(--fill-color);\n",
              "    }\n",
              "    40% {\n",
              "      border-color: transparent;\n",
              "      border-right-color: var(--fill-color);\n",
              "      border-top-color: var(--fill-color);\n",
              "    }\n",
              "    60% {\n",
              "      border-color: transparent;\n",
              "      border-right-color: var(--fill-color);\n",
              "    }\n",
              "    80% {\n",
              "      border-color: transparent;\n",
              "      border-right-color: var(--fill-color);\n",
              "      border-bottom-color: var(--fill-color);\n",
              "    }\n",
              "    90% {\n",
              "      border-color: transparent;\n",
              "      border-bottom-color: var(--fill-color);\n",
              "    }\n",
              "  }\n",
              "</style>\n",
              "\n",
              "  <script>\n",
              "    async function quickchart(key) {\n",
              "      const quickchartButtonEl =\n",
              "        document.querySelector('#' + key + ' button');\n",
              "      quickchartButtonEl.disabled = true;  // To prevent multiple clicks.\n",
              "      quickchartButtonEl.classList.add('colab-df-spinner');\n",
              "      try {\n",
              "        const charts = await google.colab.kernel.invokeFunction(\n",
              "            'suggestCharts', [key], {});\n",
              "      } catch (error) {\n",
              "        console.error('Error during call to suggestCharts:', error);\n",
              "      }\n",
              "      quickchartButtonEl.classList.remove('colab-df-spinner');\n",
              "      quickchartButtonEl.classList.add('colab-df-quickchart-complete');\n",
              "    }\n",
              "    (() => {\n",
              "      let quickchartButtonEl =\n",
              "        document.querySelector('#df-3884915e-186c-4d9f-8c3f-ab0693f2c006 button');\n",
              "      quickchartButtonEl.style.display =\n",
              "        google.colab.kernel.accessAllowed ? 'block' : 'none';\n",
              "    })();\n",
              "  </script>\n",
              "</div>\n",
              "\n",
              "    </div>\n",
              "  </div>\n"
            ],
            "application/vnd.google.colaboratory.intrinsic+json": {
              "type": "dataframe",
              "summary": "{\n  \"name\": \"mtc_clean\",\n  \"rows\": 8,\n  \"fields\": [\n    {\n      \"column\": \"income\",\n      \"properties\": {\n        \"dtype\": \"number\",\n        \"std\": 51484.21042070462,\n        \"min\": 4997.0,\n        \"max\": 159938.0,\n        \"num_unique_values\": 8,\n        \"samples\": [\n          79918.82949769862,\n          75026.0,\n          4997.0\n        ],\n        \"semantic_type\": \"\",\n        \"description\": \"\"\n      }\n    },\n    {\n      \"column\": \"overage\",\n      \"properties\": {\n        \"dtype\": \"number\",\n        \"std\": 1732.6676269822979,\n        \"min\": 0.0,\n        \"max\": 4997.0,\n        \"num_unique_values\": 7,\n        \"samples\": [\n          4997.0,\n          85.11626976185711,\n          177.0\n        ],\n        \"semantic_type\": \"\",\n        \"description\": \"\"\n      }\n    },\n    {\n      \"column\": \"leftover\",\n      \"properties\": {\n        \"dtype\": \"number\",\n        \"std\": 1756.981952668283,\n        \"min\": 0.0,\n        \"max\": 4997.0,\n        \"num_unique_values\": 7,\n        \"samples\": [\n          4997.0,\n          24.24754852911747,\n          42.0\n        ],\n        \"semantic_type\": \"\",\n        \"description\": \"\"\n      }\n    },\n    {\n      \"column\": \"house\",\n      \"properties\": {\n        \"dtype\": \"number\",\n        \"std\": 320714.68479807646,\n        \"min\": 4997.0,\n        \"max\": 1000000.0,\n        \"num_unique_values\": 8,\n        \"samples\": [\n          494019.82329397637,\n          452277.0,\n          4997.0\n        ],\n        \"semantic_type\": \"\",\n        \"description\": \"\"\n      }\n    },\n    {\n      \"column\": \"handset_price\",\n      \"properties\": {\n        \"dtype\": \"number\",\n        \"std\": 1648.2669146986761,\n        \"min\": 130.0,\n        \"max\": 4997.0,\n        \"num_unique_values\": 8,\n        \"samples\": [\n          387.55893536121675,\n          322.0,\n          4997.0\n        ],\n        \"semantic_type\": \"\",\n        \"description\": \"\"\n      }\n    },\n    {\n      \"column\": \"over_15mins_calls_per_month\",\n      \"properties\": {\n        \"dtype\": \"number\",\n        \"std\": 1762.4099271334871,\n        \"min\": 0.0,\n        \"max\": 4994.0,\n        \"num_unique_values\": 8,\n        \"samples\": [\n          7.739287144573488,\n          4.0,\n          4994.0\n        ],\n        \"semantic_type\": \"\",\n        \"description\": \"\"\n      }\n    },\n    {\n      \"column\": \"average_call_duration\",\n      \"properties\": {\n        \"dtype\": \"number\",\n        \"std\": 1764.5729388511002,\n        \"min\": 1.0,\n        \"max\": 4997.0,\n        \"num_unique_values\": 8,\n        \"samples\": [\n          5.957174304582749,\n          5.0,\n          4997.0\n        ],\n        \"semantic_type\": \"\",\n        \"description\": \"\"\n      }\n    },\n    {\n      \"column\": \"id\",\n      \"properties\": {\n        \"dtype\": \"number\",\n        \"std\": 6367.0466641992225,\n        \"min\": 2.0,\n        \"max\": 20000.0,\n        \"num_unique_values\": 8,\n        \"samples\": [\n          10034.365619371623,\n          10125.0,\n          4997.0\n        ],\n        \"semantic_type\": \"\",\n        \"description\": \"\"\n      }\n    }\n  ]\n}"
            }
          },
          "metadata": {},
          "execution_count": 4
        }
      ]
    },
    {
      "cell_type": "markdown",
      "source": [
        "Does this dataset have an missing values -- NAs? We use the `.isna()` function. (`.isnull()` is also possible.) Combined with `.sum()` we can obtain a count of NAs in the dataset."
      ],
      "metadata": {
        "id": "YhQxIz-dU9Ls"
      }
    },
    {
      "cell_type": "code",
      "source": [
        "# Identify NAs in a dataset\n",
        "mtc.isna().sum()\n"
      ],
      "metadata": {
        "colab": {
          "base_uri": "https://localhost:8080/"
        },
        "id": "--IsyUwBVC9y",
        "outputId": "6fbf89a2-5669-4bcb-8cd3-bb8f446014c9"
      },
      "execution_count": 5,
      "outputs": [
        {
          "output_type": "execute_result",
          "data": {
            "text/plain": [
              "college                        0\n",
              "income                         0\n",
              "overage                        0\n",
              "leftover                       0\n",
              "house                          0\n",
              "handset_price                  0\n",
              "over_15mins_calls_per_month    3\n",
              "average_call_duration          0\n",
              "reported_satisfaction          0\n",
              "reported_usage_level           0\n",
              "considering_change_of_plan     0\n",
              "leave                          0\n",
              "id                             0\n",
              "dtype: int64"
            ]
          },
          "metadata": {},
          "execution_count": 5
        }
      ]
    },
    {
      "cell_type": "markdown",
      "source": [
        "It appears there are indeed 3 NAs in the `over_15mins_calls_per_month` column. How do we remove them? Use the `.dropna()` function."
      ],
      "metadata": {
        "id": "ZBot9zyCV70J"
      }
    },
    {
      "cell_type": "code",
      "source": [
        "# remove NAs\n",
        "\n",
        "mtc_clean = mtc_clean.dropna()\n"
      ],
      "metadata": {
        "id": "T1prLPu_WIu0"
      },
      "execution_count": 6,
      "outputs": []
    },
    {
      "cell_type": "markdown",
      "source": [
        "# 1. Identify the target\n",
        "\n",
        "The target variable is the data representation of the phenomenon, we are interested in predicting or explaining. In this case, customers are churning. This represents a problem for the business, something we would like to improve. Hence the churn variable, `leave`, will be the target.\n",
        "\n",
        "The target variable will always depend on the specific business context in which the analysis is taking place.\n"
      ],
      "metadata": {
        "id": "be4fkbh23ihb"
      }
    },
    {
      "cell_type": "markdown",
      "metadata": {
        "id": "uathUi6xfDPf"
      },
      "source": [
        "# 2. Compute the mean of a binary variable  \n",
        "\n",
        "What is the proportion of people who churned? There are lots of ways of doing this.  But here is a straightforward approach based on the idea of :using a boolean mask.  `leave` is categorical but we can make it into True/False and then take the mean.\n",
        "\n",
        "Remember that a *proportion* is a number between 0 and 1, while a *percentage* is a number between 0 and 100.\n",
        "\n"
      ]
    },
    {
      "cell_type": "code",
      "source": [
        "# Here is the mask\n",
        "mtc_clean['leave'] == \"LEAVE\""
      ],
      "metadata": {
        "colab": {
          "base_uri": "https://localhost:8080/"
        },
        "id": "8n7RYSjYvm_f",
        "outputId": "71606721-ac28-4784-8538-48261d2a8609"
      },
      "execution_count": 5,
      "outputs": [
        {
          "output_type": "execute_result",
          "data": {
            "text/plain": [
              "0        True\n",
              "1        True\n",
              "2       False\n",
              "3        True\n",
              "4       False\n",
              "        ...  \n",
              "4995     True\n",
              "4996    False\n",
              "4997    False\n",
              "4998    False\n",
              "4999     True\n",
              "Name: leave, Length: 4997, dtype: bool"
            ]
          },
          "metadata": {},
          "execution_count": 5
        }
      ]
    },
    {
      "cell_type": "markdown",
      "source": [
        "Take the mean of the series to get the proportion of leavers.  This works because Python treats `True` as 1 and `False` as 0."
      ],
      "metadata": {
        "id": "uiWABl8vxGar"
      }
    },
    {
      "cell_type": "markdown",
      "source": [
        "Here's an example:"
      ],
      "metadata": {
        "id": "P8tsqPjYxP0n"
      }
    },
    {
      "cell_type": "code",
      "source": [
        "series = pd.Series([True, False, True, False, True]) # 3/5 True = .6 or 60%\n",
        "series\n"
      ],
      "metadata": {
        "id": "W-cmbMrjlz__",
        "outputId": "464119ec-2f50-4017-90dc-dbd6621c779a",
        "colab": {
          "base_uri": "https://localhost:8080/"
        }
      },
      "execution_count": 9,
      "outputs": [
        {
          "output_type": "execute_result",
          "data": {
            "text/plain": [
              "0     True\n",
              "1    False\n",
              "2     True\n",
              "3    False\n",
              "4     True\n",
              "dtype: bool"
            ]
          },
          "metadata": {},
          "execution_count": 9
        }
      ]
    },
    {
      "cell_type": "code",
      "source": [
        "series.mean()*100 # should be 60%"
      ],
      "metadata": {
        "colab": {
          "base_uri": "https://localhost:8080/"
        },
        "id": "YmsdAdb23BpY",
        "outputId": "33ef26ae-b9c8-4588-deaa-01b2320e44ae"
      },
      "execution_count": 10,
      "outputs": [
        {
          "output_type": "execute_result",
          "data": {
            "text/plain": [
              "60.0"
            ]
          },
          "metadata": {},
          "execution_count": 10
        }
      ]
    },
    {
      "cell_type": "markdown",
      "source": [
        "# Your Turn: Compute the mean of a binary series\n",
        "\n",
        "1. Create a short Pandas series consisting in 0s and 1s.\n",
        "2. Calculate the proportion of 1s."
      ],
      "metadata": {
        "id": "TG6TsXbJ4Myf"
      }
    },
    {
      "cell_type": "code",
      "source": [
        "# Write your code here"
      ],
      "metadata": {
        "id": "fA12cGUb5jY9"
      },
      "execution_count": null,
      "outputs": []
    },
    {
      "cell_type": "markdown",
      "metadata": {
        "id": "SoJLJMlceORN"
      },
      "source": [
        "# Plot a numeric (or count) variable against a categorical variable.\n",
        "\n",
        "We've introduced and practiced with these plot types:\n",
        "\n",
        "- Bar plot\n",
        "- Histogram\n",
        "- Box plot\n",
        "- Scatter plot\n",
        "\n",
        "Which one works best for showing the relationship between a numeric variable and a categorical variable?"
      ]
    },
    {
      "cell_type": "markdown",
      "source": [
        "A bar plot is good for showing a how a statistical summary, like a mean or a count, varies with the levels of a categorical variable. But it does not show the distribution of values, just the summary statistic.\n",
        "\n",
        "In the bar, plot below, the height of the bars is determined by the pre-calculated average house price."
      ],
      "metadata": {
        "id": "ieSDhdKA6gMV"
      }
    },
    {
      "cell_type": "code",
      "execution_count": 12,
      "metadata": {
        "colab": {
          "base_uri": "https://localhost:8080/",
          "height": 518
        },
        "id": "WBH7aRXbOUf4",
        "outputId": "58b4df19-b9bb-4e1e-bf8a-373bf695fbd6"
      },
      "outputs": [
        {
          "output_type": "execute_result",
          "data": {
            "text/plain": [
              "<Axes: title={'center': 'Average house prices by churn status'}, xlabel='leave'>"
            ]
          },
          "metadata": {},
          "execution_count": 12
        },
        {
          "output_type": "display_data",
          "data": {
            "text/plain": [
              "<Figure size 640x480 with 1 Axes>"
            ],
            "image/png": "[encoded data removed]"
          },
          "metadata": {}
        }
      ],
      "source": [
        "#Bar plot\n",
        "mtc_clean[['house','leave']].groupby('leave').mean('house').plot(kind = \"bar\", title = \"Average house prices by churn status\")\n"
      ]
    },
    {
      "cell_type": "markdown",
      "source": [
        "A histogram will not work very well because it shows the distribution of a single variable."
      ],
      "metadata": {
        "id": "6nRBiriJ8fDb"
      }
    },
    {
      "cell_type": "code",
      "execution_count": null,
      "metadata": {
        "colab": {
          "base_uri": "https://localhost:8080/",
          "height": 470
        },
        "id": "eVOSIP8SeYg3",
        "outputId": "65038548-1a62-4661-8888-0adb942c1f1b"
      },
      "outputs": [
        {
          "output_type": "display_data",
          "data": {
            "text/plain": [
              "<Figure size 640x480 with 1 Axes>"
            ],
            "image/png": "[encoded data removed]"
          },
          "metadata": {}
        }
      ],
      "source": [
        "#Histogram\n",
        "mtc_clean['house'].plot(kind = \"hist\", bins=10,title = 'House Price (in millions)')\n"
      ]
    },
    {
      "cell_type": "markdown",
      "source": [
        "A box plot does what we need. On the X axis we have the two levels of `leave`, a categorical variable, and the boxes show the distribution of numeric house prices at each level."
      ],
      "metadata": {
        "id": "_gZudZeE8l9i"
      }
    },
    {
      "cell_type": "code",
      "execution_count": 38,
      "metadata": {
        "id": "SFOTNW70MbI9",
        "colab": {
          "base_uri": "https://localhost:8080/",
          "height": 532
        },
        "outputId": "687b19a3-9ca5-4215-9a6a-31d547cf5670"
      },
      "outputs": [
        {
          "output_type": "execute_result",
          "data": {
            "text/plain": [
              "house    Axes(0.125,0.11;0.775x0.77)\n",
              "dtype: object"
            ]
          },
          "metadata": {},
          "execution_count": 38
        },
        {
          "output_type": "display_data",
          "data": {
            "text/plain": [
              "<Figure size 640x480 with 1 Axes>"
            ],
            "image/png": "[encoded data removed]"
          },
          "metadata": {}
        }
      ],
      "source": [
        "#Boxplot\n",
        "mtc_clean[['house','leave']].plot(kind = \"box\",\n",
        "                                  column = \"house\",\n",
        "                                  by='leave',\n",
        "                                  title = \"The distribution of house prices by churn status\",\n",
        "                                  ylabel = \"House price\",\n",
        "                                  xlabel = \"Churn\")"
      ]
    },
    {
      "cell_type": "markdown",
      "source": [
        "# Your Turn\n",
        "\n",
        "Create another boxplot"
      ],
      "metadata": {
        "id": "_EB5bDTVEMJv"
      }
    },
    {
      "cell_type": "code",
      "source": [
        "# write your code here"
      ],
      "metadata": {
        "id": "mLJ8kaFPEMzn"
      },
      "execution_count": null,
      "outputs": []
    },
    {
      "cell_type": "markdown",
      "source": [
        "# 4. Calculate a count (and a proportion) for a categorical variable and visualize the result into a plot."
      ],
      "metadata": {
        "id": "sNKFaQZQEZAh"
      }
    },
    {
      "cell_type": "markdown",
      "metadata": {
        "id": "YIfa0vJiMquy"
      },
      "source": [
        "# Explore Relationships\n",
        "\n",
        "###How does College affect leaving?"
      ]
    },
    {
      "cell_type": "code",
      "execution_count": null,
      "metadata": {
        "id": "F9kP2CPAMdQy"
      },
      "outputs": [],
      "source": [
        "#Bar chart with counts\n",
        "mtc_clean[['college','leave']].groupby('leave').count().plot.bar()"
      ]
    },
    {
      "cell_type": "code",
      "execution_count": null,
      "metadata": {
        "id": "TpUqqg_rND1c"
      },
      "outputs": [],
      "source": [
        "#Bar chart with percentage\n",
        "college_summary = mtc_clean[['college','leave']].groupby('leave').count()\n",
        "\n",
        "college_summary['college'] = (college_summary['college'] / college_summary['college'].sum()) * 100\n",
        "#college_summary.head()\n",
        "college_summary.plot.bar()"
      ]
    },
    {
      "cell_type": "markdown",
      "metadata": {
        "id": "V7Rj5IqGP0kL"
      },
      "source": [
        "### How does phone price affect leaving?"
      ]
    },
    {
      "cell_type": "code",
      "execution_count": null,
      "metadata": {
        "id": "rnls4KjPP4jW"
      },
      "outputs": [],
      "source": [
        "#Bar chart with mean price\n",
        "handset_price_summary = mtc_clean[['handset_price','leave']].groupby('leave').mean(['handset_price'])\n",
        "#handset_price_summary.head()\n",
        "\n",
        "handset_price_summary.plot.bar()"
      ]
    },
    {
      "cell_type": "markdown",
      "metadata": {
        "id": "jDzW72IVQPkW"
      },
      "source": [
        "### How about considering leaving?"
      ]
    },
    {
      "cell_type": "code",
      "execution_count": null,
      "metadata": {
        "id": "Ht12Gx13QSzO"
      },
      "outputs": [],
      "source": [
        "#Bar chart with percentage\n",
        "plan = mtc_clean[['considering_change_of_plan','leave']].groupby('leave').count()\n",
        "\n",
        "plan['considering_change_of_plan'] = (plan['considering_change_of_plan'] / plan['considering_change_of_plan'].sum()) * 100\n",
        "\n",
        "plan.plot.bar()"
      ]
    },
    {
      "cell_type": "markdown",
      "metadata": {
        "id": "_SdetdcOj7po"
      },
      "source": [
        "## Create a Pair Plot\n",
        "➡️ Assignment Tasks\n",
        "- Import seaborn\n",
        "- Create a Seaborn \"pairplot\" using all variables, with the color determine by \"leave\"\n",
        "- Display the plot"
      ]
    },
    {
      "cell_type": "code",
      "execution_count": null,
      "metadata": {
        "id": "O6DoWNgUeIvN"
      },
      "outputs": [],
      "source": [
        "#pair plot"
      ]
    },
    {
      "cell_type": "markdown",
      "source": [
        "## Additional Cleanup\n",
        "\n",
        "➡️ Assignment Tasks\n",
        "\n",
        "- Remove any records with null values from the dataframe"
      ],
      "metadata": {
        "id": "MndFvmzLxy7z"
      }
    },
    {
      "cell_type": "code",
      "execution_count": null,
      "metadata": {
        "id": "F134s-qYeIvN"
      },
      "outputs": [],
      "source": [
        "\n"
      ]
    },
    {
      "cell_type": "markdown",
      "metadata": {
        "id": "EnkBz6ObeIvN"
      },
      "source": [
        "## Summarize Data\n",
        "\n",
        "➡️ Assignment Tasks\n",
        "- Create a second set of charts that include the outlier values (house, income, price).   How do the outliers affect the values in the charts?"
      ]
    },
    {
      "cell_type": "code",
      "execution_count": null,
      "metadata": {
        "id": "Z4x1tuQNeIvN"
      },
      "outputs": [],
      "source": [
        "# house price"
      ]
    },
    {
      "cell_type": "code",
      "execution_count": null,
      "metadata": {
        "id": "ik4ifTH4eIvN"
      },
      "outputs": [],
      "source": [
        "# income"
      ]
    },
    {
      "cell_type": "code",
      "execution_count": null,
      "metadata": {
        "id": "CqmyVakueIvN"
      },
      "outputs": [],
      "source": [
        "# price"
      ]
    }
  ],
  "metadata": {
    "colab": {
      "provenance": [],
      "toc_visible": true
    },
    "kernelspec": {
      "display_name": "Python 3",
      "name": "python3"
    },
    "language_info": {
      "name": "python"
    }
  },
  "nbformat": 4,
  "nbformat_minor": 0
}