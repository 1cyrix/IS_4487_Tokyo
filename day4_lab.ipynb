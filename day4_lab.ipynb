{
  "cells": [
    {
      "cell_type": "markdown",
      "metadata": {
        "id": "p_Yu45OYdj3Y"
      },
      "source": [
        "# Day 4 Lab, IS 4487\n",
        "\n",
        "This lab is designed specifically to prepare you to complete the project assignment for today. We will go through code (using the MegaTelCo data as an example) that you will be able to adapt for the AdviseInvest project. Here is what you need to be able to do for the project assignment:\n",
        "\n",
        "1. Identify the target variable for the analysis based on the business problem.\n",
        "2. Clean the data by removing NAs, and filtering out rows with incorrect values.\n",
        "3. Identify and recode features that should be categorical (AKA factor) variables.\n",
        "4.  Compute the mean of a binary variable.\n",
        "\n",
        "In addition we will do a bit more EDA (if there's time)  on the MegaTelCo data, as preparation for tomorrow's project assignment."
      ]
    },
    {
      "cell_type": "markdown",
      "metadata": {
        "id": "UE93RwXhgiJS"
      },
      "source": [
        "# Load Libraries"
      ]
    },
    {
      "cell_type": "code",
      "execution_count": null,
      "metadata": {
        "id": "JYRZY5n0gfNe"
      },
      "outputs": [],
      "source": [
        "import pandas as pd\n",
        "import matplotlib as mpl\n"
      ]
    },
    {
      "cell_type": "markdown",
      "metadata": {
        "id": "bREaXo8jfu-O"
      },
      "source": [
        "# Load Data\n"
      ]
    },
    {
      "cell_type": "code",
      "execution_count": null,
      "metadata": {
        "id": "6_FwprxVgR0e"
      },
      "outputs": [],
      "source": [
        "mtc = pd.read_csv(\"https://raw.githubusercontent.com/jefftwebb/is_4487_base/dd870389117d5b24eee7417d5378d80496555130/Labs/DataSets/megatelco_leave_survey.csv\")\n"
      ]
    },
    {
      "cell_type": "markdown",
      "source": [
        "# Tasks"
      ],
      "metadata": {
        "id": "DfY2v61RzIyW"
      }
    },
    {
      "cell_type": "markdown",
      "source": [
        "## 1. Clean and Prepare the Data\n",
        "\n",
        "  **Filter**"
      ],
      "metadata": {
        "id": "QDSnEuKWUhfW"
      }
    },
    {
      "cell_type": "markdown",
      "source": [
        "Recall that we use square bracket notation with logical conditions to create a boolean mask for filtering:"
      ],
      "metadata": {
        "id": "gebuAeaVTvoP"
      }
    },
    {
      "cell_type": "code",
      "source": [
        "mtc_clean = mtc[(mtc['house'] > 0) & (mtc['income'] > 0) & (mtc['handset_price'] < 1000)]\n",
        "\n",
        "mtc_clean.describe()"
      ],
      "metadata": {
        "id": "pFkEZDN-hKVT",
        "collapsed": true
      },
      "execution_count": null,
      "outputs": []
    },
    {
      "cell_type": "markdown",
      "source": [
        "**Remove Missing Values**\n",
        "\n",
        "Does this dataset have an missing values -- NAs? We use the `.isna()` function. (`.isnull()` is also a possibility.) Combined with `.sum()` we can obtain a count of NAs in the dataset. (This is actually another instance of a boolean mask since `is.na()` evalutates as `True`/`False`.  Then `sum()` counts up the number of `True`. This works because Python treats `True` as 1 and `False` as 0.)"
      ],
      "metadata": {
        "id": "YhQxIz-dU9Ls"
      }
    },
    {
      "cell_type": "code",
      "source": [
        "# Identify NAs in a dataset\n",
        "mtc.isna().sum()\n"
      ],
      "metadata": {
        "id": "--IsyUwBVC9y"
      },
      "execution_count": null,
      "outputs": []
    },
    {
      "cell_type": "markdown",
      "source": [
        "Notice that this method gives a column-wise count.  It appears there are indeed 3 NAs in the `over_15mins_calls_per_month` column. How do we remove them? Use the `.dropna()` function and overwrite the `mtc_clean` data frame with the version from which the NAs have been removed."
      ],
      "metadata": {
        "id": "ZBot9zyCV70J"
      }
    },
    {
      "cell_type": "code",
      "source": [
        "# Remove NAs\n",
        "mtc_clean = mtc_clean.dropna()\n"
      ],
      "metadata": {
        "id": "T1prLPu_WIu0"
      },
      "execution_count": null,
      "outputs": []
    },
    {
      "cell_type": "code",
      "source": [
        "# check that it worked\n",
        "mtc_clean.isna().sum()\n"
      ],
      "metadata": {
        "id": "hPiMDwtB6lts"
      },
      "execution_count": null,
      "outputs": []
    },
    {
      "cell_type": "markdown",
      "source": [
        "**Create Categorical Variables**\n",
        "\n",
        "Which variables represent categories? Let's get an overview of the data again to assist in making that determination."
      ],
      "metadata": {
        "id": "VQXfJuGA8oSv"
      }
    },
    {
      "cell_type": "code",
      "source": [
        "mtc_clean.head()"
      ],
      "metadata": {
        "id": "ymI1OP9s9Wbo"
      },
      "execution_count": null,
      "outputs": []
    },
    {
      "cell_type": "markdown",
      "source": [
        "- `college` is currently coded `zero`/`one`.  This should be recoded as 0/1.  We will ignore this for now.\n",
        "- `reported_satisfaction` is a category.\n",
        "- `reported_usage_level` is a category.\n",
        "- `considering_change_of_plan` is a category.\n",
        "-\t`leave` is a category.\n",
        "\n",
        "We will use the `astype()` function to do the transformation."
      ],
      "metadata": {
        "id": "UAGxtuCh-MnD"
      }
    },
    {
      "cell_type": "code",
      "source": [
        "# Convert these to categorical variables\n",
        "mtc_clean['reported_satisfaction'] = mtc_clean['reported_satisfaction'].astype('category')\n",
        "mtc_clean['reported_usage_level'] = mtc_clean['reported_usage_level'].astype('category')\n",
        "mtc_clean['considering_change_of_plan'] = mtc_clean['considering_change_of_plan'].astype('category')\n",
        "mtc_clean['leave'] = mtc_clean['leave'].astype('category')\n"
      ],
      "metadata": {
        "id": "u5JYXXe6-4vj"
      },
      "execution_count": null,
      "outputs": []
    },
    {
      "cell_type": "code",
      "source": [
        "# Check that it worked\n",
        "mtc_clean.info()"
      ],
      "metadata": {
        "id": "b0BA5No6_Ub4"
      },
      "execution_count": null,
      "outputs": []
    },
    {
      "cell_type": "markdown",
      "source": [
        "Perfect!"
      ],
      "metadata": {
        "id": "_k84syU___T6"
      }
    },
    {
      "cell_type": "markdown",
      "source": [
        "## 3. Identify the target\n",
        "\n",
        "The target variable is the data representation of the phenomenon, we are interested in predicting or explaining. In this case, customers are churning. This represents a problem for the business, something we would like to improve. Hence the churn variable, `leave`, will be the target.\n",
        "\n",
        "The target variable will always depend on the specific business context in which the analysis is taking place.\n"
      ],
      "metadata": {
        "id": "be4fkbh23ihb"
      }
    },
    {
      "cell_type": "markdown",
      "metadata": {
        "id": "uathUi6xfDPf"
      },
      "source": [
        "## 4. Compute the mean of a binary variable  \n",
        "\n",
        "What is the proportion of people who churned? There are lots of ways of answering this question.  But here is a straightforward approach based on the idea of (again) using a boolean mask.  `leave` is categorical (`LEAVE`/`STAY`) but we can make it into `True`/`False` in order to compute the mean.\n",
        "\n",
        "Remember that a *proportion* is a number between 0 and 1, while a *percentage* is a number between 0 and 100.\n",
        "\n"
      ]
    },
    {
      "cell_type": "code",
      "source": [
        "# Here is the mask\n",
        "mtc_clean['leave'] == \"LEAVE\""
      ],
      "metadata": {
        "id": "8n7RYSjYvm_f"
      },
      "execution_count": null,
      "outputs": []
    },
    {
      "cell_type": "markdown",
      "source": [
        "Take the mean of the series to get the proportion of leavers.  This works, again, because Python treats `True` as 1 and `False` as 0."
      ],
      "metadata": {
        "id": "uiWABl8vxGar"
      }
    },
    {
      "cell_type": "markdown",
      "source": [
        "Here's an example:"
      ],
      "metadata": {
        "id": "P8tsqPjYxP0n"
      }
    },
    {
      "cell_type": "code",
      "source": [
        "series = pd.Series([True, False, True, False, True]) # 3/5 True = .6 or 60%\n",
        "series\n"
      ],
      "metadata": {
        "id": "W-cmbMrjlz__"
      },
      "execution_count": null,
      "outputs": []
    },
    {
      "cell_type": "code",
      "source": [
        "series.mean()*100 # should be 60%"
      ],
      "metadata": {
        "id": "YmsdAdb23BpY"
      },
      "execution_count": null,
      "outputs": []
    },
    {
      "cell_type": "markdown",
      "source": [
        "## Your Turn: Compute the mean of a binary series\n",
        "\n",
        "1. Create a short Pandas series consisting in 0s and 1s.\n",
        "2. Calculate the proportion of 1s."
      ],
      "metadata": {
        "id": "TG6TsXbJ4Myf"
      }
    },
    {
      "cell_type": "code",
      "source": [
        "# Write your code here\n"
      ],
      "metadata": {
        "id": "fA12cGUb5jY9"
      },
      "execution_count": null,
      "outputs": []
    },
    {
      "cell_type": "markdown",
      "source": [
        "##Your Turn: Compute the proportion of MegaTelCo customers who churned"
      ],
      "metadata": {
        "id": "kyGqqzAiDS9t"
      }
    },
    {
      "cell_type": "code",
      "source": [
        "# Write your code here\n"
      ],
      "metadata": {
        "id": "-NgUh9F9DlWQ"
      },
      "execution_count": null,
      "outputs": []
    },
    {
      "cell_type": "markdown",
      "metadata": {
        "id": "YIfa0vJiMquy"
      },
      "source": [
        "# Explore Relationships\n",
        "\n",
        "###How does College affect leaving?"
      ]
    },
    {
      "cell_type": "code",
      "execution_count": null,
      "metadata": {
        "id": "F9kP2CPAMdQy"
      },
      "outputs": [],
      "source": [
        "#Bar chart with counts\n",
        "mtc_clean[['college','leave']].groupby('leave').count().plot(kind = \"bar\")"
      ]
    },
    {
      "cell_type": "code",
      "execution_count": null,
      "metadata": {
        "id": "TpUqqg_rND1c"
      },
      "outputs": [],
      "source": [
        "#Bar chart with percentage\n",
        "college_summary = mtc_clean[['college','leave']].groupby('leave').count()\n",
        "\n",
        "college_summary['college'] = (college_summary['college'] / college_summary['college'].sum()) * 100\n",
        "\n",
        "college_summary.plot.bar()"
      ]
    },
    {
      "cell_type": "markdown",
      "metadata": {
        "id": "V7Rj5IqGP0kL"
      },
      "source": [
        "### How does phone price affect leaving?\n",
        "\n",
        "A boxplot is a good choice because we are comparing a categorical variable and a numeric variable."
      ]
    },
    {
      "cell_type": "code",
      "execution_count": null,
      "metadata": {
        "id": "rnls4KjPP4jW"
      },
      "outputs": [],
      "source": [
        "#Boxplot\n",
        "mtc_clean.plot(kind = \"box\", column = \"handset_price\", by = \"leave\")"
      ]
    },
    {
      "cell_type": "markdown",
      "source": [
        "### How does income affect leaving?"
      ],
      "metadata": {
        "id": "pUHpthyPHuyc"
      }
    },
    {
      "cell_type": "code",
      "source": [
        "# Again, boxplot\n",
        "mtc_clean.plot(kind = \"box\", column = \"income\", by = \"leave\")\n"
      ],
      "metadata": {
        "colab": {
          "base_uri": "https://localhost:8080/",
          "height": 487
        },
        "id": "IEopocRxH5aV",
        "outputId": "6e040cc3-9938-495d-eb2e-849bbf4adb5b"
      },
      "execution_count": null,
      "outputs": [
        {
          "output_type": "execute_result",
          "data": {
            "text/plain": [
              "income    Axes(0.125,0.11;0.775x0.77)\n",
              "dtype: object"
            ]
          },
          "metadata": {},
          "execution_count": 34
        },
        {
          "output_type": "display_data",
          "data": {
            "text/plain": [
              "<Figure size 640x480 with 1 Axes>"
            ],
            "image/png": "[encoded data removed]"
          },
          "metadata": {}
        }
      ]
    }
  ],
  "metadata": {
    "colab": {
      "provenance": [],
      "toc_visible": true
    },
    "kernelspec": {
      "display_name": "Python 3",
      "name": "python3"
    },
    "language_info": {
      "name": "python"
    }
  },
  "nbformat": 4,
  "nbformat_minor": 0
}