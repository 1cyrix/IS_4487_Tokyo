{
  "cells": [
    {
      "cell_type": "markdown",
      "metadata": {
        "id": "p_Yu45OYdj3Y"
      },
      "source": [
        "# Day 7 Lab, IS 4487\n",
        "\n",
        "The purpose of this lab is to prepare you to complete today's project quiz. Here are the questions you need to be able to answer.\n",
        "\n",
        "- Fit a tree model of the target using all the predictors, then:  create a visualization of the tree and identify the top 3 most important predictors in this model.\n",
        "    \n",
        "- How do these models compare to majority class prediction?\n",
        "    \n",
        "- How will you use a classification model as part of a solution to the AdviseInvest case?\n",
        "\n"
      ]
    },
    {
      "cell_type": "markdown",
      "metadata": {
        "id": "UE93RwXhgiJS"
      },
      "source": [
        "##Load Libraries\n"
      ]
    },
    {
      "cell_type": "code",
      "execution_count": null,
      "metadata": {
        "id": "JYRZY5n0gfNe"
      },
      "outputs": [],
      "source": [
        "import pandas as pd\n",
        "import matplotlib.pyplot as plt\n",
        "from sklearn.tree import plot_tree\n",
        "import numpy as np\n",
        "from sklearn.preprocessing import LabelEncoder # for label encoding\n",
        "from sklearn.tree import DecisionTreeClassifier, export_graphviz # Import Decision Tree Classifier\n",
        "from sklearn.model_selection import train_test_split # Import train_test_split function\n",
        "from sklearn import metrics #Import scikit-learn metrics module for accuracy calculation\n",
        "from sklearn import tree\n"
      ]
    },
    {
      "cell_type": "markdown",
      "metadata": {
        "id": "bREaXo8jfu-O"
      },
      "source": [
        "## Get data\n"
      ]
    },
    {
      "cell_type": "code",
      "execution_count": null,
      "metadata": {
        "id": "6_FwprxVgR0e"
      },
      "outputs": [],
      "source": [
        "mtc = pd.read_csv(\"https://raw.githubusercontent.com/jefftwebb/is_4487_base/dd870389117d5b24eee7417d5378d80496555130/Labs/DataSets/megatelco_leave_survey.csv\")"
      ]
    },
    {
      "cell_type": "markdown",
      "metadata": {
        "id": "BtxOWvFlKzgE"
      },
      "source": [
        "## Clean  data\n"
      ]
    },
    {
      "cell_type": "code",
      "execution_count": null,
      "metadata": {
        "id": "7KXLvMcBK8Za"
      },
      "outputs": [],
      "source": [
        "# filter rows\n",
        "mtc_clean = mtc[(mtc['house'] > 0) & (mtc['income'] > 0) & (mtc['handset_price'] < 1000)]\n",
        "\n",
        "# remove NAs\n",
        "mtc_clean = mtc_clean.dropna()"
      ]
    },
    {
      "cell_type": "markdown",
      "source": [
        "Rather than encoding the character variables as categories we will turn them into numbers below, as required by the tree algorithm."
      ],
      "metadata": {
        "id": "FlTg1OtvC8jI"
      }
    },
    {
      "cell_type": "markdown",
      "metadata": {
        "id": "oKoXf3kkJVmm"
      },
      "source": [
        "## Fit a full tree model\n",
        "\n",
        "Use all of the variables.  We'll call this the \"full tree.\" We will use `max_depth = 5` to keep the tree relatively simple.\n",
        "\n"
      ]
    },
    {
      "cell_type": "code",
      "execution_count": null,
      "metadata": {
        "id": "SFOTNW70MbI9"
      },
      "outputs": [],
      "source": [
        "# split the datafram into independent (X) and dependent (predicted) attributes (y)\n",
        "X = mtc_clean.drop(['id', 'leave'], axis=1)\n",
        "y = mtc_clean['leave']\n",
        "\n",
        "# Convert categorical variables to numeric\n",
        "le = LabelEncoder()\n",
        "for column in X.select_dtypes(include=['object']):\n",
        "    X[column] = le.fit_transform(X[column])\n",
        "\n",
        "# initialize the tree\n",
        "full_tree = DecisionTreeClassifier(criterion=\"entropy\", max_depth = 5)\n",
        "\n",
        "# Create Decision Tree Classifer\n",
        "full_tree = full_tree.fit(X, y)\n"
      ]
    },
    {
      "cell_type": "markdown",
      "source": [
        "Explanation of code:\n",
        "\n",
        "- `X = mtc_clean.drop(['id', 'leave'], axis=1)`: Creates feature set `X` by removing `id` and `leave` columns\n",
        "- `y = mtc_clean['leave']`: Sets target variable `y` as the `leave` column\n",
        "- `le = LabelEncoder()`: Initializes a LabelEncoder object for converting categorical variables to numeric\n",
        "- `for column in X.select_dtypes(include=['object'])`: Loops through all object (string) columns in `X`\n",
        "- `X[column] = le.fit_transform(X[column])`: Applies label encoding to each categorical column\n",
        "- `full_tree = DecisionTreeClassifier(criterion=\"entropy\")`: Initializes a decision tree with entropy criterion\n",
        "- `full_tree = full_tree.fit(X, y)`: Fits the decision tree model on the entire feature set `X` and target `y`\n",
        "- Note: This process prepares the data, encodes categorical variables, and trains a decision tree using all available features"
      ],
      "metadata": {
        "id": "A2s1oD-mEqzI"
      }
    },
    {
      "cell_type": "markdown",
      "metadata": {
        "id": "qkDk8JG8n_W9"
      },
      "source": [
        "##Visualize the full tree"
      ]
    },
    {
      "cell_type": "code",
      "execution_count": null,
      "metadata": {
        "id": "nFvB1n-_oBV6"
      },
      "outputs": [],
      "source": [
        "plt.figure(figsize=(20,10))\n",
        "\n",
        "plot_tree(full_tree,\n",
        "          feature_names = X.columns,\n",
        "          class_names=['STAY', 'LEAVE'],\n",
        "          filled=True,\n",
        "          max_depth=2) # for legibility\n",
        "\n",
        "plt.show()"
      ]
    },
    {
      "cell_type": "markdown",
      "source": [
        "What are the most important predictors of churn based on this model?"
      ],
      "metadata": {
        "id": "Fjvfd3SxG9MA"
      }
    },
    {
      "cell_type": "markdown",
      "metadata": {
        "id": "m-ZyMMzIMrba"
      },
      "source": [
        "## Check Accuracy"
      ]
    },
    {
      "cell_type": "code",
      "execution_count": null,
      "metadata": {
        "id": "Tzn8iS8hMtvQ"
      },
      "outputs": [],
      "source": [
        "pred = full_tree.predict(X = X)\n",
        "\n",
        "sum(pred == mtc_clean['leave']) / len(pred)"
      ]
    },
    {
      "cell_type": "markdown",
      "source": [
        "This accuracy is **much** better than the simple model from yesterday."
      ],
      "metadata": {
        "id": "F1xdUAveIZ3q"
      }
    }
  ],
  "metadata": {
    "colab": {
      "provenance": []
    },
    "kernelspec": {
      "display_name": "Python 3",
      "name": "python3"
    },
    "language_info": {
      "name": "python"
    }
  },
  "nbformat": 4,
  "nbformat_minor": 0
}