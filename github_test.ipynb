{
  "nbformat": 4,
  "nbformat_minor": 0,
  "metadata": {
    "colab": {
      "provenance": [],
      "authorship_tag": "ABX9TyOmkm1D6oPOtKhO18N5p/M9"
    },
    "kernelspec": {
      "name": "python3",
      "display_name": "Python 3"
    },
    "language_info": {
      "name": "python"
    }
  },
  "cells": [
    {
      "cell_type": "markdown",
      "source": [
        "# Github Test\n",
        "\n",
        "This notebook is designed to help you get started with GitHub.\n",
        "\n",
        "**Instructions**\n",
        "\n",
        "1. Double click this cell to make it editable.\n",
        "2. Save this notebook to Google Drive.\n",
        "3. Edit the title to include your name.  Click on the title to rename the notebook.\n",
        "4. Write your name below.\n",
        "\n",
        "Your name:  \n",
        "\n",
        "5. Save the revised copy of the notebook to your GitHub Repo."
      ],
      "metadata": {
        "id": "iC0TUOCaDPlW"
      }
    }
  ]
}