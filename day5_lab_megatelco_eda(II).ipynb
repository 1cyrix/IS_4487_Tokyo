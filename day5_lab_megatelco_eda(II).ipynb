{
  "cells": [
    {
      "cell_type": "markdown",
      "metadata": {
        "id": "CELbkY_93aG5"
      },
      "source": [
        "# Day 5 Lab, IS 4487\n",
        "\n",
        "This lab (like the last one) is designed  to prepare you to complete the project assignment for today. We will go through code (using MegaTelCo as an example) that you will be able to adapt for the AdviseInvest project. Here is what you need to be able to do for the project assignment:\n",
        "\n",
        "1. Create a plot showing the relationship between a numeric (or count) and a categorical variable.\n",
        "2. Create a plot showing the relationship between two  categorical variables.\n"
      ]
    },
    {
      "cell_type": "markdown",
      "metadata": {
        "id": "RIpwxYMA3aG7"
      },
      "source": [
        "## Load Libraries\n"
      ]
    },
    {
      "cell_type": "code",
      "execution_count": null,
      "metadata": {
        "vscode": {
          "languageId": "plaintext"
        },
        "id": "zIax-DId3aG8"
      },
      "outputs": [],
      "source": [
        "import pandas as pd\n"
      ]
    },
    {
      "cell_type": "markdown",
      "metadata": {
        "id": "1gEwwLZc3aG8"
      },
      "source": [
        "## Import Data\n"
      ]
    },
    {
      "cell_type": "code",
      "execution_count": null,
      "metadata": {
        "vscode": {
          "languageId": "plaintext"
        },
        "id": "O8P7DoGU3aG8"
      },
      "outputs": [],
      "source": [
        "mtc = pd.read_csv(\"https://raw.githubusercontent.com/jefftwebb/is_4487_base/dd870389117d5b24eee7417d5378d80496555130/Labs/DataSets/megatelco_leave_survey.csv\")"
      ]
    },
    {
      "cell_type": "code",
      "source": [
        "mtc.info()"
      ],
      "metadata": {
        "id": "bQwxwQY1ByQC"
      },
      "execution_count": null,
      "outputs": []
    },
    {
      "cell_type": "markdown",
      "metadata": {
        "id": "lO9YZui53aG8"
      },
      "source": [
        "# Prepare Data\n",
        "\n",
        "1. Perform the cleaning from the previous lab:\n",
        "   - Remove negative values of `income` and `house`\n",
        "   - Remove absurdly large value of `handset_price`\n",
        "   - Remove NAs\n",
        "   - Make character variables into categorical (AKA factor) variables, including `college` which we will use for to demo the plots. (`college` is coded `one`/`zero`, which is weird, but we'll leave it as is.)\n",
        "\n"
      ]
    },
    {
      "cell_type": "code",
      "execution_count": null,
      "metadata": {
        "vscode": {
          "languageId": "plaintext"
        },
        "id": "-Qs5j2i23aG8"
      },
      "outputs": [],
      "source": [
        "# filter rows\n",
        "mtc_clean = mtc[(mtc['house'] > 0) & (mtc['income'] > 0) & (mtc['handset_price'] < 1000)]\n"
      ]
    },
    {
      "cell_type": "code",
      "source": [
        "# remove NAs\n",
        "mtc_clean = mtc_clean.dropna()"
      ],
      "metadata": {
        "id": "U0jC5mp0DHUN"
      },
      "execution_count": null,
      "outputs": []
    },
    {
      "cell_type": "code",
      "source": [
        "# Convert string to categorical variables (including college)\n",
        "mtc_clean['reported_satisfaction'] = mtc_clean['reported_satisfaction'].astype('category')\n",
        "mtc_clean['reported_usage_level'] = mtc_clean['reported_usage_level'].astype('category')\n",
        "mtc_clean['considering_change_of_plan'] = mtc_clean['considering_change_of_plan'].astype('category')\n",
        "mtc_clean['college'] = mtc_clean['college'].astype('category')\n",
        "mtc_clean['leave'] = mtc_clean['leave'].astype('category')\n"
      ],
      "metadata": {
        "id": "cc-Z0X9QDIUZ"
      },
      "execution_count": null,
      "outputs": []
    },
    {
      "cell_type": "code",
      "source": [
        "# check that it worked\n",
        "mtc_clean.info()"
      ],
      "metadata": {
        "id": "CwGyJUqKDgmp"
      },
      "execution_count": null,
      "outputs": []
    },
    {
      "cell_type": "markdown",
      "source": [
        "Note that there are now no NAs; 6 rows have been removed."
      ],
      "metadata": {
        "id": "0YffH0awD6Z3"
      }
    },
    {
      "cell_type": "markdown",
      "source": [
        "In the project you will be directed to change a 0/1 variable into a categorical variable (with labels).  This change will often make plots more legible.  Here is how to do that with pandas, using `college` as an example:"
      ],
      "metadata": {
        "id": "QqYqhf96BtSk"
      }
    },
    {
      "cell_type": "code",
      "source": [
        "mtc_clean[\"college\"] = mtc_clean[\"college\"].replace({1: \"yes\", 0: \"no\"})\n",
        "mtc_clean[\"college\"] = mtc_clean[\"college\"].astype(\"category\")"
      ],
      "metadata": {
        "id": "cXc1DX8NCBKh"
      },
      "execution_count": null,
      "outputs": []
    },
    {
      "cell_type": "markdown",
      "source": [
        "# Plotting"
      ],
      "metadata": {
        "id": "5pttyIbxLx4G"
      }
    },
    {
      "cell_type": "markdown",
      "source": [
        "## 1. Plot the relationship between a numeric and a categorical variable"
      ],
      "metadata": {
        "id": "Gx-vNftVL0wO"
      }
    },
    {
      "cell_type": "markdown",
      "source": [
        "What, for example, would be the appropriate plot type for showing the relationship between `leave`--our target variable--and `income`? In this case, `leave` is a categorical variable, while `income` is numeric.\n",
        "\n",
        "- A histogram won't work because it shows the distribution (the frequencies of values) for just a single variable.\n",
        "- A scatterplot? No.  This will show the relationship between two *numeric* variables.\n",
        "- A line plot?  This is usually reserved for data that has a time dimension.  \n",
        "- A barplot?  This could work.  A summary statistic--mean, median, count, max, min--would be shown on the y-axis, with the categories on the x-axis."
      ],
      "metadata": {
        "id": "VF0ErORSPEgJ"
      }
    },
    {
      "cell_type": "code",
      "source": [
        "# barplot of mean income vs leave using pandas\n",
        "mtc_clean.groupby('leave')['income'].mean().plot(kind='bar')\n"
      ],
      "metadata": {
        "id": "4mySbpAeV7O1"
      },
      "execution_count": null,
      "outputs": []
    },
    {
      "cell_type": "markdown",
      "source": [
        "## Your Turn:  Choose a different summary statistic and add a title\n",
        "\n",
        "- Update the plot so the bar heights show the median\n",
        "- Add an appropriate title\n"
      ],
      "metadata": {
        "id": "poA2Hcv5b3Nk"
      }
    },
    {
      "cell_type": "code",
      "source": [
        "# Write your code here\n"
      ],
      "metadata": {
        "id": "gvSJVfRje_cj"
      },
      "execution_count": null,
      "outputs": []
    },
    {
      "cell_type": "markdown",
      "source": [
        "What doesn't work very well about this barplot? The information is limited; it does not show the *range* of values. The height of the bar is determined by the summary statistic we've chosen, but gives no information about the *distribution* of observations.\n",
        "\n",
        "For that, we need a *boxplot*:\n",
        "\n"
      ],
      "metadata": {
        "id": "3c54gm5YcqAg"
      }
    },
    {
      "cell_type": "code",
      "source": [
        "mtc_clean.plot(kind='box', column = \"income\", by = \"leave\")"
      ],
      "metadata": {
        "id": "j44BNDfGdLkR"
      },
      "execution_count": null,
      "outputs": []
    },
    {
      "cell_type": "markdown",
      "source": [
        "Explanation of code:\n",
        "\n",
        "- `mtc_clean`: the DataFrame we're working with.\n",
        "- `.plot()`: the pandas method for creating plots directly from DataFrames.\n",
        "- `kind = 'box'`: specifies that we want to create a box plot.\n",
        "- `column = \"income\"`: tells the function which column to use for the y-axis of the plot.\n",
        "- `by = \"leave\"`: specifies the column to use for grouping the data on the x-axis.\n"
      ],
      "metadata": {
        "id": "K_3iG9r1nMVJ"
      }
    },
    {
      "cell_type": "markdown",
      "source": [
        "## Your Turn:  Fine tune the boxplot\n",
        "\n",
        "- Add an appropriate title\n",
        "- Add appropriate axis labels"
      ],
      "metadata": {
        "id": "VYR2ZL1Ae6zg"
      }
    },
    {
      "cell_type": "code",
      "source": [
        "# your code goes here\n"
      ],
      "metadata": {
        "id": "VAri45LbfQKP"
      },
      "execution_count": null,
      "outputs": []
    },
    {
      "cell_type": "markdown",
      "source": [
        "Now we can see from the box (which represents the middle 50% of the observation, or the central tendency of the data) that customers who stay tend to have lower incomes than customers who leave. In general, because box plots provide information about the distribution of the underlying data, they are often used to show the relationship between a categorical variable like `leave` and a numeric variable like `income`."
      ],
      "metadata": {
        "id": "t8Kf0S0We959"
      }
    },
    {
      "cell_type": "markdown",
      "source": [
        "## 2. Plot the relationship between two categorical variables\n",
        "\n",
        "This is tricky.  Will a boxplot work to show the relationship between, for example, `college` and `leave`?  No. For a boxplot, one of the variables needs to be numeric.\n"
      ],
      "metadata": {
        "id": "k1Uuqt-2MAs1"
      }
    },
    {
      "cell_type": "code",
      "source": [
        "# boxplot of leave vs college using pandas\n",
        "mtc_clean.plot(kind = \"box\", column='college', by='leave')\n"
      ],
      "metadata": {
        "id": "0T8CQTDGjema"
      },
      "execution_count": null,
      "outputs": []
    },
    {
      "cell_type": "markdown",
      "source": [
        "\n",
        "The best option in this case is a barplot, but some preparatory work is required.\n",
        "\n",
        "1. Calculate counts of college goers at each level of leave.\n",
        "2. the height of the bars will represent those counts.\n",
        "\n",
        "Here is an example."
      ],
      "metadata": {
        "id": "oB1zFZodlCK_"
      }
    },
    {
      "cell_type": "code",
      "source": [
        "# calculate counts\n",
        "mtc_clean.groupby(['college', 'leave'])['leave'].count().unstack()"
      ],
      "metadata": {
        "id": "P8sML7Ztltzi"
      },
      "execution_count": null,
      "outputs": []
    },
    {
      "cell_type": "markdown",
      "source": [
        "Explanation of code:\n",
        "\n",
        "- `mtc_clean`: the DataFrame we're working with.\n",
        "- `.groupby(['leave', 'college'])`: groups the DataFrame by two columns: `leave` and `college`, creating a GroupBy object where each group is a unique combination of `leave` and `college` values.\n",
        "- `['college']`: selects the `college` column from the grouped data.\n",
        "- `.count()`: counts the number of non-null values in each group. In this case, it's effectively counting the number of rows in each group.\n",
        "- `.unstack()`:  makes the resulting Series into a DataFrame.\n",
        "\n",
        "Now, the barplot will use this table:\n",
        "\n"
      ],
      "metadata": {
        "id": "E1hTeTFfmM-p"
      }
    },
    {
      "cell_type": "code",
      "source": [
        "mtc_clean.groupby(['college', 'leave'])['leave'].count().unstack().plot(kind='bar')"
      ],
      "metadata": {
        "id": "VWaWc4kCuJIM"
      },
      "execution_count": null,
      "outputs": []
    },
    {
      "cell_type": "markdown",
      "source": [
        "This plot compares churn rates between college-educated and non-college-educated customers, showing how leaving vs staying changes with education level. In other words, it shows the *impact* of education on churn.\n",
        "\n",
        "In this case the impact is relatively negligible.\n",
        "\n",
        "This interpretation will be clearer if we make the y-axis into a *proportion* rather than a *count*."
      ],
      "metadata": {
        "id": "TSjMXW-mw2e9"
      }
    },
    {
      "cell_type": "code",
      "source": [
        "# Calculate proportions\n",
        "(mtc_clean.groupby(['college', 'leave'])['leave'].count().unstack()\n",
        "             .apply(lambda x: x / x.sum(), axis=1))\n",
        "\n"
      ],
      "metadata": {
        "id": "w29vdCqBx4sQ"
      },
      "execution_count": null,
      "outputs": []
    },
    {
      "cell_type": "markdown",
      "source": [
        "Explanation of new code:\n",
        "\n",
        "- `.apply(lambda x: x / x.sum(), axis=1)`:\n",
        "   - `apply()`: Applies a function to each row of the DataFrame.\n",
        "   - `lambda x: x / x.sum()`: An anonymous function that divides each value by the row sum.\n",
        "   - `axis=1`: Specifies that the function should be applied row-wise.\n",
        "\n",
        "We can now use this table with proportions in the bar plot."
      ],
      "metadata": {
        "id": "_ZLw1AUjyQt-"
      }
    },
    {
      "cell_type": "code",
      "source": [
        "# Make the plot\n",
        "\n",
        "(mtc_clean.groupby(['college', 'leave'])['leave'].count().unstack()\n",
        "             .apply(lambda x: x / x.sum(), axis=1)).plot(kind='bar')"
      ],
      "metadata": {
        "id": "0kMm2a7xzDk2"
      },
      "execution_count": null,
      "outputs": []
    },
    {
      "cell_type": "markdown",
      "source": [
        "This plot shows that leaving and staying is about 50% for college and non-college customers."
      ],
      "metadata": {
        "id": "49v5aPnZzNLW"
      }
    },
    {
      "cell_type": "markdown",
      "source": [
        "## Your Turn:  Fine-tune the plot\n",
        "\n",
        "1. Add a title\n",
        "2. Add an appropriate y-axis label."
      ],
      "metadata": {
        "id": "AoFvYzMyzaBw"
      }
    },
    {
      "cell_type": "code",
      "source": [
        "# Write your code here\n"
      ],
      "metadata": {
        "id": "Twrne6sVzwZn"
      },
      "execution_count": null,
      "outputs": []
    },
    {
      "cell_type": "markdown",
      "source": [
        "# Functions:\n",
        "\n",
        "- `pd.read_csv()`: Reads a CSV file into a pandas DataFrame.\n",
        "- `.info()`: Prints a concise summary of a DataFrame, including column names, non-null counts, and data types.\n",
        "- `.dropna()`: Removes rows with missing values from a DataFrame.\n",
        "- `.astype()`: Casts a pandas object to a specified dtype.\n",
        "- `.groupby()`: Groups DataFrame using a mapper or by a Series of columns.\n",
        "- `.mean()`: Returns the mean of the values for the requested axis.\n",
        "- `.plot()`: Creates a plot of the data in a DataFrame or Series.\n",
        "- `.median()`: Returns the median of the values for the requested axis.\n",
        "- `.count()`: Counts non-null values in a Series or DataFrame.\n",
        "- `.unstack()`: Pivots a level of the index labels.\n",
        "- `.apply()`: Applies a function along an axis of the DataFrame.\n",
        "- `lambda`: Creates an anonymous function.\n",
        "- `sum()`: Returns the sum of a Series or DataFrame elements."
      ],
      "metadata": {
        "id": "jLpYzCB93b8m"
      }
    }
  ],
  "metadata": {
    "language_info": {
      "name": "python"
    },
    "colab": {
      "provenance": [],
      "toc_visible": true
    },
    "kernelspec": {
      "name": "python3",
      "display_name": "Python 3"
    }
  },
  "nbformat": 4,
  "nbformat_minor": 0
}