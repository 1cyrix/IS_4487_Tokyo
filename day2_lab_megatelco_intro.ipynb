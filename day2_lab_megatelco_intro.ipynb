{
  "cells": [
    {
      "cell_type": "markdown",
      "metadata": {
        "id": "view-in-github",
        "colab_type": "text"
      },
      "source": [
        "<a href=\"https://colab.research.google.com/github/jefftwebb/IS_4487_Tokyo/blob/main/day2_lab_megatelco_intro.ipynb\" target=\"_parent\"><img src=\"https://colab.research.google.com/assets/colab-badge.svg\" alt=\"Open In Colab\"/></a>"
      ]
    },
    {
      "cell_type": "markdown",
      "metadata": {
        "id": "J-3Cql6h2-3C"
      },
      "source": [
        "# Day 2 Lab, IS 4487\n",
        "\n",
        "Outline\n",
        "\n",
        "- Loading installed packages\n",
        "- Inspect data\n",
        "- Clean data\n",
        "- Summarize data\n",
        "- Explore plot types\n",
        "\n"
      ]
    },
    {
      "cell_type": "markdown",
      "source": [
        "# Notebook Instructions\n",
        "\n",
        "Again, remember to save a copy of the notebook in Drive so that you can save your changes.\n",
        "\n",
        "When you are done revising this notebook save your changes to GitHub and upload the URL for the file to Canvas for the assignment.  "
      ],
      "metadata": {
        "id": "Y1o5aC7lPhf8"
      }
    },
    {
      "cell_type": "markdown",
      "source": [
        "# Wrangle the MegaTelco Data"
      ],
      "metadata": {
        "id": "0cwAf7Ei-mnV"
      }
    },
    {
      "cell_type": "markdown",
      "metadata": {
        "id": "4NVoGsf-2-3E"
      },
      "source": [
        "##Load Libraries\n",
        "\n",
        "Remember, we will be using:\n",
        "- Pandas\n",
        "- Scikitlearn\n",
        "- Matplotlib\n"
      ]
    },
    {
      "cell_type": "code",
      "execution_count": null,
      "metadata": {
        "id": "2AeieAFI2-3E"
      },
      "outputs": [],
      "source": [
        "import pandas as pd\n",
        "import matplotlib as mpl\n",
        "import sklearn as sl"
      ]
    },
    {
      "cell_type": "markdown",
      "metadata": {
        "id": "vQq-Wem72-3F"
      },
      "source": [
        "## Load the Data\n",
        "\n",
        "In this case we will load  the MegaTelCo data directly from the URL in GitHub.\n",
        "\n",
        "\n"
      ]
    },
    {
      "cell_type": "code",
      "execution_count": null,
      "metadata": {
        "id": "YQR8g1w72-3F"
      },
      "outputs": [],
      "source": [
        "mtc = pd.read_csv(\"https://raw.githubusercontent.com/jefftwebb/is_4487_base/dd870389117d5b24eee7417d5378d80496555130/Labs/DataSets/megatelco_leave_survey.csv\")"
      ]
    },
    {
      "cell_type": "markdown",
      "source": [
        "Examine the data quickly for mistakes and to get a sense of the variables:"
      ],
      "metadata": {
        "id": "l9uateFgBS2f"
      }
    },
    {
      "cell_type": "code",
      "execution_count": null,
      "metadata": {
        "id": "ol0Axq442-3F"
      },
      "outputs": [],
      "source": [
        "#look at the top rows\n",
        "mtc.head(10)"
      ]
    },
    {
      "cell_type": "code",
      "execution_count": null,
      "metadata": {
        "id": "gVEB15-X2-3F"
      },
      "outputs": [],
      "source": [
        "#look at last rows\n",
        "mtc.tail(10)"
      ]
    },
    {
      "cell_type": "code",
      "execution_count": null,
      "metadata": {
        "id": "9neoVthK2-3F"
      },
      "outputs": [],
      "source": [
        "#get a summary of the dataset\n",
        "mtc.describe()"
      ]
    },
    {
      "cell_type": "code",
      "execution_count": null,
      "metadata": {
        "id": "jngQ8jLY2-3F"
      },
      "outputs": [],
      "source": [
        "#look at the datatypes\n",
        "mtc.info()"
      ]
    },
    {
      "cell_type": "markdown",
      "metadata": {
        "id": "_B6txQyk2-3F"
      },
      "source": [
        "\n",
        "Did you notice anything unusual about the amounts for `house`?  And what about `handset_price` and `income`? The data needs to be cleaned.\n",
        "\n"
      ]
    },
    {
      "cell_type": "markdown",
      "source": [
        "\n",
        "## Data Cleaning\n",
        "\n",
        "To filter out rows with mistakes we will use square bracket notation introduced in the last lab.\n",
        "\n"
      ],
      "metadata": {
        "id": "9eOoQ7XtAYpG"
      }
    },
    {
      "cell_type": "markdown",
      "source": [
        "Here is an example of how to create a filtered dataset."
      ],
      "metadata": {
        "id": "oODBzvvvDLjD"
      }
    },
    {
      "cell_type": "code",
      "metadata": {
        "id": "49e0277e"
      },
      "source": [
        "# Use a boolean mask\n",
        "mtc[(mtc[\"income\"] > 0) & (mtc[\"handset_price\"] < 1000)].describe()"
      ],
      "execution_count": null,
      "outputs": []
    },
    {
      "cell_type": "markdown",
      "source": [
        "Looks better: `income` is positive and the outlier in `handset_price` is gone. But there are still impossible values in `house`."
      ],
      "metadata": {
        "id": "mf-qOuoEQjgs"
      }
    },
    {
      "cell_type": "markdown",
      "source": [
        "## Your Turn: Create a cleaned dataset\n",
        "\n",
        "1. Filter `mtc` based on 3 logical conditions.\n",
        "2. Save the cleaned data in a new DataFrame, `mtc_clean`.\n",
        "3. Summarize this new DataFrame to verify that your changes worked."
      ],
      "metadata": {
        "id": "h5K0DwAlREHX"
      }
    },
    {
      "cell_type": "code",
      "metadata": {
        "id": "d2e7ca02"
      },
      "source": [
        "# Your code goes here\n"
      ],
      "execution_count": null,
      "outputs": []
    },
    {
      "cell_type": "markdown",
      "metadata": {
        "id": "EXqBjPkk2-3G"
      },
      "source": [
        "# Summarize the Data\n",
        " What is average value of `house` at the two levels of `leave`?  (We call this a conditional mean because it is *conditional* on the value of `leave`.)"
      ]
    },
    {
      "cell_type": "code",
      "execution_count": null,
      "metadata": {
        "id": "9D6qMO3N2-3G"
      },
      "outputs": [],
      "source": [
        "mtc_clean[['house','leave']].groupby('leave').mean().round(2)"
      ]
    },
    {
      "cell_type": "markdown",
      "source": [
        "\n",
        " Conclusion?  Stayers have substantially more expensive homes."
      ],
      "metadata": {
        "id": "tgXnvV6BUmQT"
      }
    },
    {
      "cell_type": "markdown",
      "source": [
        "## Your Turn: Calculate Additional Stats\n",
        "\n",
        "1. Calculate means conditional on leave for `income` and `overage`.\n",
        "2. Calculate *median* income for leavers and stayers. (Hint:  use the Gemini AI tool to figure out what function will calculate a median.)"
      ],
      "metadata": {
        "id": "wKI39WkaUzLk"
      }
    },
    {
      "cell_type": "code",
      "source": [
        "# Your code goes here"
      ],
      "metadata": {
        "id": "1_HiD7COV1PG"
      },
      "execution_count": null,
      "outputs": []
    },
    {
      "cell_type": "markdown",
      "metadata": {
        "id": "47Aw1uuT2-3G"
      },
      "source": [
        "# Practice\n",
        "\n",
        "- Create three plots to summarize any trends or relationships in the `MegaTelCo` data.  You might start by thinking about which variables might be related. Ask some questions. For example, do people with high incomes by expensive phones?\n"
      ]
    },
    {
      "cell_type": "code",
      "execution_count": null,
      "metadata": {
        "id": "gnpIKHC72-3G"
      },
      "outputs": [],
      "source": [
        "# Your code goes here"
      ]
    },
    {
      "cell_type": "code",
      "source": [
        "# Your code goes here"
      ],
      "metadata": {
        "id": "BPE_RXHQXDM1"
      },
      "execution_count": null,
      "outputs": []
    },
    {
      "cell_type": "code",
      "source": [
        "# Your code goes here"
      ],
      "metadata": {
        "id": "09IF8pL0XC5c"
      },
      "execution_count": null,
      "outputs": []
    }
  ],
  "metadata": {
    "language_info": {
      "name": "python"
    },
    "colab": {
      "provenance": [],
      "toc_visible": true,
      "include_colab_link": true
    },
    "kernelspec": {
      "name": "python3",
      "display_name": "Python 3"
    }
  },
  "nbformat": 4,
  "nbformat_minor": 0
}