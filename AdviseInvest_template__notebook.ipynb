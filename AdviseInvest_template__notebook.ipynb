{
  "nbformat": 4,
  "nbformat_minor": 0,
  "metadata": {
    "colab": {
      "provenance": [],
      "toc_visible": true,
      "authorship_tag": "ABX9TyMiaGaALBjqcymAcojlLTwo"
    },
    "kernelspec": {
      "name": "python3",
      "display_name": "Python 3"
    },
    "language_info": {
      "name": "python"
    }
  },
  "cells": [
    {
      "cell_type": "markdown",
      "source": [
        "# Introduction\n",
        "\n",
        "This is a template notebook you can use to get started on the modeling, evaluation, and deployment phases of the AdviseInvest project. Most importantly, it includes code for cleaning the data so that you can focus on the modelling tasks with confidence that the data is clean.\n",
        "\n",
        "Take this template and adapt it however you would like."
      ],
      "metadata": {
        "id": "IoSGpLOv5kRj"
      }
    },
    {
      "cell_type": "markdown",
      "source": [
        "# Libraries"
      ],
      "metadata": {
        "id": "AM9VAa5O7DbD"
      }
    },
    {
      "cell_type": "code",
      "source": [
        "import pandas as pd"
      ],
      "metadata": {
        "id": "PdIzcakQ7G3G"
      },
      "execution_count": null,
      "outputs": []
    },
    {
      "cell_type": "markdown",
      "source": [
        "# Data"
      ],
      "metadata": {
        "id": "FdiAuGFJ67wU"
      }
    },
    {
      "cell_type": "code",
      "execution_count": null,
      "metadata": {
        "id": "80gfbnVW5ZS6"
      },
      "outputs": [],
      "source": [
        "ai = pd.read_csv(\"https://raw.githubusercontent.com/jefftwebb/is_4487_base/main/Assignments/DataSets/adviseinvest.csv\")"
      ]
    },
    {
      "cell_type": "code",
      "source": [
        "ai.info()"
      ],
      "metadata": {
        "id": "honAgOD17kht"
      },
      "execution_count": null,
      "outputs": []
    },
    {
      "cell_type": "code",
      "source": [
        "ai.describe()"
      ],
      "metadata": {
        "id": "rxN8-gx89z0K"
      },
      "execution_count": null,
      "outputs": []
    },
    {
      "cell_type": "markdown",
      "source": [
        "Note that the deployment project assignment will require new customer data.  Find that here:"
      ],
      "metadata": {
        "id": "fGO-XqSg7qh2"
      }
    },
    {
      "cell_type": "code",
      "source": [
        "cd = pd.read_csv(\"https://raw.githubusercontent.com/jefftwebb/is_4487_base/main/Assignments/DataSets/adviseinvest_customer_data.csv\")"
      ],
      "metadata": {
        "id": "EAgKirsh8H_k"
      },
      "execution_count": null,
      "outputs": []
    },
    {
      "cell_type": "code",
      "source": [
        "cd.info()"
      ],
      "metadata": {
        "id": "9klEJE7m8ONz"
      },
      "execution_count": null,
      "outputs": []
    },
    {
      "cell_type": "markdown",
      "source": [
        "# Clean Data\n",
        "\n",
        "\n",
        "\n",
        "Make sure to clean the data with the following code before using it for modeling.\n",
        "\n",
        "The code makes these changes:\n",
        "\n",
        "- Removes rows with NAs.   \n",
        "- Removes the row with the single outlier in num_accts.\n",
        "- Removes the rows with negative income values.\n",
        "- Makes 4 categorical variables into  factors."
      ],
      "metadata": {
        "id": "_Chg7rsj8XrL"
      }
    },
    {
      "cell_type": "code",
      "source": [
        "# copy ai\n",
        "ai_clean = ai.copy()\n",
        "\n",
        "# remove NAs\n",
        "ai_clean = ai_clean.dropna()\n",
        "\n",
        "# remove outlier\n",
        "ai_clean = ai_clean[ai_clean.num_accts < 100]\n",
        "\n",
        "# remove negative income\n",
        "ai_clean = ai_clean[ai_clean.income >= 0]\n",
        "\n",
        "# make 4 categorical variables into factors\n",
        "ai_clean[\"job\"] = ai_clean[\"job\"].astype(\"category\")\n",
        "ai_clean[\"product\"] = ai_clean[\"product\"].astype(\"category\")\n",
        "ai_clean[\"sav_acct\"] = ai_clean[\"sav_acct\"].astype(\"category\")\n",
        "ai_clean[\"chk_acct\"] = ai_clean[\"chk_acct\"].astype(\"category\")\n",
        "\n"
      ],
      "metadata": {
        "id": "kl90wXuj8lcu"
      },
      "execution_count": null,
      "outputs": []
    },
    {
      "cell_type": "code",
      "source": [
        "ai_clean.describe()"
      ],
      "metadata": {
        "id": "4Qnr8hnF-web"
      },
      "execution_count": null,
      "outputs": []
    },
    {
      "cell_type": "code",
      "source": [
        "ai_clean.info()"
      ],
      "metadata": {
        "id": "w-7D43lL_ASP"
      },
      "execution_count": null,
      "outputs": []
    },
    {
      "cell_type": "markdown",
      "source": [
        "Now you are ready to use `ai_clean` in the project assignments."
      ],
      "metadata": {
        "id": "LYRRABHJ_H8B"
      }
    }
  ]
}