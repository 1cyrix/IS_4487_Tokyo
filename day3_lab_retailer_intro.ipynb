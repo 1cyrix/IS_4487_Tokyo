{
  "cells": [
    {
      "cell_type": "markdown",
      "metadata": {
        "id": "zCEcl_WDcUsv"
      },
      "source": [
        "# Day 3 Lab, IS 4487\n",
        "\n",
        "Outline\n",
        "\n",
        "Repeat exercises from Lab 2, for practice, but with the *SuperStore Retail Orders* dataset\n",
        "\n",
        "- Loading installed packages\n",
        "- Inspect data\n",
        "- Clean data\n",
        "- Summarize data\n",
        "- Explore plot types\n",
        "\n"
      ]
    },
    {
      "cell_type": "markdown",
      "source": [
        "# Notebook Instructions\n",
        "- Remember to save a copy of the notebook in Drive so that you can save your changes.\n",
        "- Complete the Assignment Tasks.\n",
        "- When you are done revising this notebook save your changes to GitHub and upload the URL for the file to Canvas for the assignment.\n",
        "- Some of these assignments ask you to do things we have not covered yet.  Use AI to come up with a solution."
      ],
      "metadata": {
        "id": "aXtYp4npljXj"
      }
    },
    {
      "cell_type": "markdown",
      "metadata": {
        "id": "hNWAPvcacUsw"
      },
      "source": [
        "# Load Libraries\n",
        "\n",
        "➡️ Assignment Tasks\n",
        "- Load any necessary libraries"
      ]
    },
    {
      "cell_type": "code",
      "source": [
        "# Write your code here\n"
      ],
      "metadata": {
        "id": "klSlXHCjl5-Y"
      },
      "execution_count": null,
      "outputs": []
    },
    {
      "cell_type": "markdown",
      "source": [
        "# Load Data"
      ],
      "metadata": {
        "id": "utt37UKSc6lC"
      }
    },
    {
      "cell_type": "code",
      "source": [
        "ss = pd.read_csv(\"https://raw.githubusercontent.com/jefftwebb/is_4487_base/main/Labs/DataSets/superstore_retail_orders.csv\")"
      ],
      "metadata": {
        "id": "0ichdtamdD7y"
      },
      "execution_count": null,
      "outputs": []
    },
    {
      "cell_type": "markdown",
      "metadata": {
        "id": "uasJvGvEcUsx"
      },
      "source": [
        "# Summarize and Review Data *italicized text*\n",
        "\n",
        "➡️ Assignment Tasks\n",
        "\n",
        "- Describe or profile the dataframe"
      ]
    },
    {
      "cell_type": "markdown",
      "metadata": {
        "id": "BPcop5yDcUsx"
      },
      "source": [
        "# Prepare Data\n",
        "\n",
        "➡️ Assignment Tasks\n",
        "- Convert the Total_Amount into a number (not a string)\n",
        "- Remove rows with empty (NULL) values\n",
        "- Optional: Locate outliers in any of the variables.   Filter them out if they are mistakes; keep them if they are exceptional cases."
      ]
    },
    {
      "cell_type": "code",
      "execution_count": null,
      "metadata": {
        "vscode": {
          "languageId": "plaintext"
        },
        "id": "KtrPeA1AcUsx"
      },
      "outputs": [],
      "source": [
        "# Write your code here\n"
      ]
    },
    {
      "cell_type": "markdown",
      "metadata": {
        "id": "rV14NAbkcUsx"
      },
      "source": [
        "# Summarize Data\n",
        "\n",
        "➡️ Assignment Tasks\n",
        "- Display the average price per month\n",
        "- Display the total revenue for all months"
      ]
    },
    {
      "cell_type": "code",
      "execution_count": null,
      "metadata": {
        "vscode": {
          "languageId": "plaintext"
        },
        "id": "-pnCkc3CcUsx"
      },
      "outputs": [],
      "source": [
        "#average price"
      ]
    },
    {
      "cell_type": "code",
      "execution_count": null,
      "metadata": {
        "vscode": {
          "languageId": "plaintext"
        },
        "id": "KUq0h-4PcUsy"
      },
      "outputs": [],
      "source": [
        "#total revenue"
      ]
    },
    {
      "cell_type": "markdown",
      "source": [
        "# Plot Data\n",
        "\n",
        "➡️ Assignment Tasks\n",
        "- Produce two plots that show patterns or relationships in the data.\n",
        "- Interpret these patterns for potential value to the business.  "
      ],
      "metadata": {
        "id": "zY7mwXAFmu8i"
      }
    }
  ],
  "metadata": {
    "language_info": {
      "name": "python"
    },
    "colab": {
      "provenance": [],
      "toc_visible": true
    },
    "kernelspec": {
      "name": "python3",
      "display_name": "Python 3"
    }
  },
  "nbformat": 4,
  "nbformat_minor": 0
}