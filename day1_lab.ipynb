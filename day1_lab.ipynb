{
  "cells": [
    {
      "cell_type": "raw",
      "metadata": {
        "id": "17798b9e"
      },
      "source": [
        "# Day 1 Lab: Intro to Pandas"
      ],
      "id": "17798b9e"
    },
    {
      "cell_type": "markdown",
      "metadata": {
        "id": "8cfae8af"
      },
      "source": [
        "Outline\n",
        "\n",
        "- Introduction to Pandas\n",
        "- Loading installed packages\n",
        "- Inspect data\n",
        "- Explore plot types\n",
        "- Data Selection and Filtering\n",
        "- Data Manipulation\n",
        "- Summary of Functions\n",
        "\n",
        "\n",
        "\n",
        "\n"
      ],
      "id": "8cfae8af"
    },
    {
      "cell_type": "markdown",
      "source": [
        "# Notebook Instructions\n",
        "\n",
        "1. Save a copy of the forked notebook to Google Drive (File >> Save a copy in Drive).  This is the only way you'll be able to save your changes.\n",
        "2. Do the Python coding as directed below (look for the \"Your Turn\" sections).\n",
        "3. When you have completed your coding save your notebook in Drive (File >> Save) and save it also to your GitHub repo (File >> Save a copy in github).\n",
        "4. Navigate to your notebook file in GitHub and copy and submit the URL for the Canvas lab assignment."
      ],
      "metadata": {
        "id": "7ki69Ur-3Ezw"
      },
      "id": "7ki69Ur-3Ezw"
    },
    {
      "cell_type": "markdown",
      "source": [
        "# Introduction to Pandas\n",
        "\n",
        "Pandas is a powerful data manipulation library in Python. It provides data structures and functions that make working with structured data more convenient and efficient compared to base Python."
      ],
      "metadata": {
        "id": "k_rnGv9CvSoV"
      },
      "id": "k_rnGv9CvSoV"
    },
    {
      "cell_type": "markdown",
      "metadata": {
        "id": "bdcd46ee"
      },
      "source": [
        "Pandas introduces two primary data structures: **Series** and **DataFrames**.\n",
        "- A Series is a one-dimensional collection of values ( the elements must be the same data type).\n",
        "- A DataFrame is a two-dimensional data structure with columns of potentially different types. It is similar to a spreadsheet.\n",
        "\n",
        "Pandas provides a wide range of functions and methods for data manipulation, cleaning, filtering, aggregation, merging, and more. It integrates well with other libraries in the data science ecosystem, such as Matplotlib for data visualization.\n",
        "\n",
        "Some key advantages of using Pandas over base Python include:\n",
        "- Efficient memory usage and performance for large datasets\n",
        "- Intuitive syntax for data manipulation\n",
        "- Built-in functions for common data operations (e.g., filtering, grouping, reshaping)\n",
        "- Seamless integration with other data science libraries\n",
        "- Handling of missing data and data alignment\n",
        "- Powerful tools for data exploration and analysis\n",
        "\n",
        "Throughout this lab, we will explore various aspects of Pandas and its capabilities for data manipulation, visualization and analysis.\n",
        "\n"
      ],
      "id": "bdcd46ee"
    },
    {
      "cell_type": "markdown",
      "source": [
        "# Summarize a  DataFrame"
      ],
      "metadata": {
        "id": "OtrOXQGe5MfO"
      },
      "id": "OtrOXQGe5MfO"
    },
    {
      "cell_type": "markdown",
      "source": [
        "## Load Libraries\n",
        "\n",
        "In this class we will be using\n",
        "- Pandas\n",
        "- Matplotlib"
      ],
      "metadata": {
        "id": "CEcy1L5L5FTX"
      },
      "id": "CEcy1L5L5FTX"
    },
    {
      "cell_type": "code",
      "metadata": {
        "id": "1cb3d577"
      },
      "source": [
        "import pandas as pd\n",
        "import matplotlib as mpl\n",
        "import statsmodels.api as sm # To get some data\n"
      ],
      "id": "1cb3d577",
      "execution_count": null,
      "outputs": []
    },
    {
      "cell_type": "markdown",
      "metadata": {
        "id": "ef87d266"
      },
      "source": [
        "## Getting Data into Pandas\n",
        "\n",
        "In this case we will load data from the statsmodels.org library. `mtcars` is a common practice dataset.\n"
      ],
      "id": "ef87d266"
    },
    {
      "cell_type": "code",
      "metadata": {
        "id": "04da0673"
      },
      "source": [
        "# Download data from the statsmodels API\n",
        "mtcars = sm.datasets.get_rdataset(\"mtcars\", \"datasets\", cache=True).data\n",
        "\n",
        "# Define dataset as a pandas dataframe\n",
        "df = pd.DataFrame(mtcars)\n"
      ],
      "id": "04da0673",
      "execution_count": null,
      "outputs": []
    },
    {
      "cell_type": "markdown",
      "metadata": {
        "id": "9e844a07"
      },
      "source": [
        "## Preview Data\n",
        "\n",
        "Here is a data dictionary:\n",
        "\n",
        "|Attribute | Description |\n",
        "|---------|-----------|\n",
        "|  mpg    |Miles/(US) gallon|\n",
        "|  cyl    |Number of cylinders|\n",
        "|  disp   |Displacement (cu.in.)|\n",
        "|hp   |Gross horsepower|\n",
        "|drat |Rear axle ratio|\n",
        "|wt   |Weight (1000 lbs)|\n",
        "|qsec |1/4 mile time|\n",
        "|vs   |Engine (0 = V-shaped, 1 = straight)|\n",
        "|am   |Transmission (0 = automatic, 1 = manual)|\n",
        "|gear |Number of forward gears|\n"
      ],
      "id": "9e844a07"
    },
    {
      "cell_type": "code",
      "metadata": {
        "id": "77ef0474"
      },
      "source": [
        "#look at the top rows\n",
        "df.head()\n"
      ],
      "id": "77ef0474",
      "execution_count": null,
      "outputs": []
    },
    {
      "cell_type": "code",
      "metadata": {
        "id": "5e4c87b7"
      },
      "source": [
        "#look at last rows\n",
        "df.tail(10)"
      ],
      "id": "5e4c87b7",
      "execution_count": null,
      "outputs": []
    },
    {
      "cell_type": "code",
      "metadata": {
        "id": "e226a10e"
      },
      "source": [
        "#get a statistical summary of the dataset\n",
        "df.describe()"
      ],
      "id": "e226a10e",
      "execution_count": null,
      "outputs": []
    },
    {
      "cell_type": "markdown",
      "source": [
        "## Pandas Syntax\n",
        "\n",
        "Pandas is designed to be used primarily with dataframes.  When you see a syntax like `df.method()`, it means that you are calling a method on the DataFrame object `df`. The parentheses `()` after the method name indicate that it is a callable function.\n",
        "\n",
        "So, above, we used `df.head()` etc, meaning that the `head()` function is being used on the DataFrame object, `df`."
      ],
      "metadata": {
        "id": "PnjAZT1XrmW1"
      },
      "id": "PnjAZT1XrmW1"
    },
    {
      "cell_type": "markdown",
      "source": [
        "## Your Turn: Summarize Data with Pandas\n",
        "\n",
        "Download insurance data.  (I think Matt P showed you this dataset.)"
      ],
      "metadata": {
        "id": "i6RscfVDQfHX"
      },
      "id": "i6RscfVDQfHX"
    },
    {
      "cell_type": "code",
      "source": [
        "idf = pd.read_csv(\"https://raw.githubusercontent.com/matthewpecsok/4482_fall_2022/main/data/insurance.csv\")\n",
        "\n"
      ],
      "metadata": {
        "id": "8zkBVezzQpBJ"
      },
      "id": "8zkBVezzQpBJ",
      "execution_count": null,
      "outputs": []
    },
    {
      "cell_type": "markdown",
      "source": [
        "&rarr;  Display top and bottom rows of  `idf`.\n",
        "\n",
        "\n",
        "&rarr;  What is the average expense? (Hint:  use the functions above.  Later on we'll find other ways of doing the calculation.)\n",
        "\n",
        "&rarr;  What is the median age?"
      ],
      "metadata": {
        "id": "OYtLZAEIQ_NA"
      },
      "id": "OYtLZAEIQ_NA"
    },
    {
      "cell_type": "code",
      "source": [
        "# Your code goes here\n"
      ],
      "metadata": {
        "id": "XhPDWkqJTJ0y"
      },
      "id": "XhPDWkqJTJ0y",
      "execution_count": null,
      "outputs": []
    },
    {
      "cell_type": "code",
      "source": [
        "# Your code goes here\n"
      ],
      "metadata": {
        "id": "25_YHP0lTUuG"
      },
      "id": "25_YHP0lTUuG",
      "execution_count": null,
      "outputs": []
    },
    {
      "cell_type": "code",
      "source": [
        "# Your code goes here\n"
      ],
      "metadata": {
        "id": "ReNprVRlTkkG"
      },
      "id": "ReNprVRlTkkG",
      "execution_count": null,
      "outputs": []
    },
    {
      "cell_type": "markdown",
      "metadata": {
        "id": "57cbb3f6"
      },
      "source": [
        "# Visualize Data\n",
        "\n",
        "\n",
        "Pandas can create a variety of plots with the `df.plot(kind = \"...\")` syntax (where plotting is an attribute of the dataframe).\n",
        "\n",
        "Here are examples."
      ],
      "id": "57cbb3f6"
    },
    {
      "cell_type": "markdown",
      "source": [
        "## Line Chart"
      ],
      "metadata": {
        "id": "0LJ3un9V5duK"
      },
      "id": "0LJ3un9V5duK"
    },
    {
      "cell_type": "code",
      "metadata": {
        "id": "8f0dd9dc"
      },
      "source": [
        "#Line chart\n",
        "df['mpg'].plot(kind = \"line\", color='blue')"
      ],
      "id": "8f0dd9dc",
      "execution_count": null,
      "outputs": []
    },
    {
      "cell_type": "code",
      "source": [
        "# Fix the  x-axis labels\n",
        "df['mpg'].plot(kind = \"line\",\n",
        "               color='blue',\n",
        "               rot = 90,\n",
        "               xlabel = \"Car\",\n",
        "               ylabel = \"Miles per gallon\")\n"
      ],
      "metadata": {
        "id": "8dPYwlIG49fy"
      },
      "id": "8dPYwlIG49fy",
      "execution_count": null,
      "outputs": []
    },
    {
      "cell_type": "markdown",
      "source": [
        "## Bar Chart"
      ],
      "metadata": {
        "id": "XC7tOMrj5qUa"
      },
      "id": "XC7tOMrj5qUa"
    },
    {
      "cell_type": "code",
      "metadata": {
        "id": "11bf5272"
      },
      "source": [
        "# Bar chart\n",
        "df['mpg'].plot(kind = \"barh\",\n",
        "               color='red',\n",
        "               xticks=[0,10,20])"
      ],
      "id": "11bf5272",
      "execution_count": null,
      "outputs": []
    },
    {
      "cell_type": "markdown",
      "source": [
        "## Histogram"
      ],
      "metadata": {
        "id": "6oGAnh8H5tNh"
      },
      "id": "6oGAnh8H5tNh"
    },
    {
      "cell_type": "code",
      "metadata": {
        "id": "f99d01a2"
      },
      "source": [
        "#Histogram\n",
        "df['mpg'].plot(kind = \"hist\",\n",
        "               bins=15,\n",
        "               title='Miles Per Gallon')"
      ],
      "id": "f99d01a2",
      "execution_count": null,
      "outputs": []
    },
    {
      "cell_type": "markdown",
      "source": [
        "## Boxplot"
      ],
      "metadata": {
        "id": "0c3Rugmz5xyL"
      },
      "id": "0c3Rugmz5xyL"
    },
    {
      "cell_type": "code",
      "source": [
        " # Boxplot\n",
        " df.plot(kind = \"box\", column = \"mpg\")"
      ],
      "metadata": {
        "id": "AZzPxYi7XLS2"
      },
      "id": "AZzPxYi7XLS2",
      "execution_count": null,
      "outputs": []
    },
    {
      "cell_type": "code",
      "source": [
        "# Boxplot showing distribution of mpg at levels of cyl\n",
        "\n",
        "df.plot(kind = \"box\", column = \"mpg\", by = \"cyl\")"
      ],
      "metadata": {
        "id": "YrAynPetXpRk"
      },
      "id": "YrAynPetXpRk",
      "execution_count": null,
      "outputs": []
    },
    {
      "cell_type": "markdown",
      "source": [
        "## Scatterplot"
      ],
      "metadata": {
        "id": "DEdcJiD350Uq"
      },
      "id": "DEdcJiD350Uq"
    },
    {
      "cell_type": "code",
      "metadata": {
        "id": "86c92eb8"
      },
      "source": [
        "#Scatter plot\n",
        "df.plot(kind = \"scatter\", x = 'mpg',y = 'hp',c = 'wt')"
      ],
      "id": "86c92eb8",
      "execution_count": null,
      "outputs": []
    },
    {
      "cell_type": "markdown",
      "source": [
        "### Your Turn: Visualizing Relationships\n",
        "\n",
        "&rarr;  Using the `idf` dataset, make a plot showing the distribution of `bmi` by `sex`:"
      ],
      "metadata": {
        "id": "eujnIuAGYjus"
      },
      "id": "eujnIuAGYjus"
    },
    {
      "cell_type": "code",
      "source": [
        "# Your code goes here\n"
      ],
      "metadata": {
        "id": "FSBdjP6bY6KM"
      },
      "id": "FSBdjP6bY6KM",
      "execution_count": null,
      "outputs": []
    },
    {
      "cell_type": "markdown",
      "metadata": {
        "id": "060a9764"
      },
      "source": [
        "# Data Selection and Filtering\n",
        "\n",
        "Data selection and filtering are essential techniques for working with Pandas DataFrames. They allow you to extract specific subsets of data based on certain conditions.\n",
        "\n"
      ],
      "id": "060a9764"
    },
    {
      "cell_type": "markdown",
      "metadata": {
        "id": "d60de50e"
      },
      "source": [
        "## Selecting Specific Columns\n",
        "Square bracket subsetting, or indexing, is a way to access specific rows and columns of a DataFrame. When you use square brackets `[]` with a DataFrame, you can pass in:\n",
        "- A single column name to select a single column (returns a Series)\n",
        "- A list of column names to select multiple columns (returns a DataFrame)\n",
        "- A *boolean mask* to select rows based on a condition\n",
        "- A slice to select a range of rows\n",
        "\n",
        "For example, `df['mpg']` selects the 'mpg' column as a Series, while `df[['mpg', 'cyl']]` selects the 'mpg' and 'cyl' columns as a DataFrame.\n",
        "\n"
      ],
      "id": "d60de50e"
    },
    {
      "cell_type": "code",
      "source": [
        "df['mpg']"
      ],
      "metadata": {
        "id": "N0yj25KLOXIE"
      },
      "id": "N0yj25KLOXIE",
      "execution_count": null,
      "outputs": []
    },
    {
      "cell_type": "code",
      "source": [
        "df[['mpg', 'cyl']]"
      ],
      "metadata": {
        "id": "0FuIWyDOOUFP"
      },
      "id": "0FuIWyDOOUFP",
      "execution_count": null,
      "outputs": []
    },
    {
      "cell_type": "code",
      "source": [],
      "metadata": {
        "id": "1gD4A5KtOoxb"
      },
      "id": "1gD4A5KtOoxb",
      "execution_count": null,
      "outputs": []
    },
    {
      "cell_type": "markdown",
      "source": [
        "## Your Turn:  Filter columns\n",
        "\n",
        "&rarr; Return just the `bmi` and `expenses` columns from `idf`.\n"
      ],
      "metadata": {
        "id": "TNXlACsPNiCM"
      },
      "id": "TNXlACsPNiCM"
    },
    {
      "cell_type": "code",
      "source": [
        "# Your code goes here\n"
      ],
      "metadata": {
        "id": "Parbzmz2A-WM"
      },
      "id": "Parbzmz2A-WM",
      "execution_count": null,
      "outputs": []
    },
    {
      "cell_type": "markdown",
      "source": [
        "## Filtering Rows with Boolean Masks\n",
        "\n",
        "Boolean masking is a powerful technique for filtering rows based on certain conditions. You create a boolean mask by applying a condition to a DataFrame, which returns a series of True/False values. You can then use this mask to select the rows where the condition is True.\n"
      ],
      "metadata": {
        "id": "Ngee4BhJA1il"
      },
      "id": "Ngee4BhJA1il"
    },
    {
      "cell_type": "code",
      "source": [
        "# Here is the mask:\n",
        "df['mpg'] > 25"
      ],
      "metadata": {
        "id": "cSw-fq1rB_7U"
      },
      "id": "cSw-fq1rB_7U",
      "execution_count": null,
      "outputs": []
    },
    {
      "cell_type": "code",
      "metadata": {
        "id": "d2e7ca02"
      },
      "source": [
        "# Now, filter with the mask:\n",
        "df[df['mpg'] > 25]"
      ],
      "id": "d2e7ca02",
      "execution_count": null,
      "outputs": []
    },
    {
      "cell_type": "markdown",
      "metadata": {
        "id": "4e9a93c4"
      },
      "source": [
        "\n",
        "\n",
        "\n",
        "\n",
        "# Data Manipulation\n",
        "\n",
        "Data manipulation involves modifying and transforming the data within a DataFrame. Pandas provides various functions and methods for data manipulation tasks.\n",
        "\n",
        "\n"
      ],
      "id": "4e9a93c4"
    },
    {
      "cell_type": "markdown",
      "source": [
        "## Creating New Columns\n",
        "You can create new columns in a DataFrame by assigning values to a new column name. The values can be based on existing columns or derived from calculations"
      ],
      "metadata": {
        "id": "dzywAmu1PRG2"
      },
      "id": "dzywAmu1PRG2"
    },
    {
      "cell_type": "code",
      "metadata": {
        "id": "c4513ce8"
      },
      "source": [
        "# Creating new columns based on existing columns\n",
        "df['mpg_per_cyl'] = df['mpg'] / df['cyl']\n",
        "df[['mpg', 'cyl', 'mpg_per_cyl']].head()"
      ],
      "id": "c4513ce8",
      "execution_count": null,
      "outputs": []
    },
    {
      "cell_type": "markdown",
      "metadata": {
        "id": "9a07c7ea"
      },
      "source": [
        "In this example, a new column 'mpg_per_cyl' is created by dividing the values of 'mpg' by 'cyl'.\n"
      ],
      "id": "9a07c7ea"
    },
    {
      "cell_type": "markdown",
      "metadata": {
        "id": "6ecd13d4"
      },
      "source": [
        "\n",
        "\n",
        "## Your Turn: Create an Additional Chart\n",
        "\n",
        "- Create a  chart showing the distribution of km/gal by transmission type (note 1 mile ≈ 1.60934 kilometers)\n"
      ],
      "id": "6ecd13d4"
    },
    {
      "cell_type": "code",
      "metadata": {
        "id": "4fef4f10"
      },
      "source": [
        "#Your code goes here\n"
      ],
      "id": "4fef4f10",
      "execution_count": null,
      "outputs": []
    },
    {
      "cell_type": "markdown",
      "metadata": {
        "id": "6fe3def5"
      },
      "source": [
        "# Summary of Functions\n",
        "\n",
        "Throughout this lab, we introduced several functions and methods provided by Pandas. Here's a summary of the key functions covered:\n",
        "\n",
        "- `pd.DataFrame()`: Creates a DataFrame from a dictionary or other data source\n",
        "- `df.head()`: Displays the first few rows of a DataFrame\n",
        "- `df.tail()`: Displays the last few rows of a DataFrame\n",
        "- `df.info()`: Provides a concise summary of a DataFrame\n",
        "- `df.describe()`: Generates descriptive statistics of a DataFrame\n",
        "- `df.plot(kind = \"line\")`: Creates a line chart\n",
        "- `df.plot(kind = \"barh\")`: Creates a horizontal bar chart\n",
        "- `df.plot(kind = \"hist\")`: Creates a histogram\n",
        "- `df.plot(kind = \"box\")`: Creates a box plot\n",
        "- `df.plot(kind = \"scatter\")`: Creates a scatter plot\n",
        "\n"
      ],
      "id": "6fe3def5"
    }
  ],
  "metadata": {
    "kernelspec": {
      "name": "python3",
      "language": "python",
      "display_name": "Python 3 (ipykernel)"
    },
    "colab": {
      "provenance": [],
      "toc_visible": true
    }
  },
  "nbformat": 4,
  "nbformat_minor": 5
}