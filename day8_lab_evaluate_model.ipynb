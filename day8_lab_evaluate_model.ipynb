{
  "cells": [
    {
      "cell_type": "markdown",
      "metadata": {
        "id": "p_Yu45OYdj3Y"
      },
      "source": [
        "# Day 8 Lab, IS 4487\n",
        "\n",
        "What do you need to know how to do for today's project?\n",
        "\n",
        "1. Fit a tree model using all the available predictors.\n",
        "2. Create a confusion matrix  and identify numbers of TP, FP, TN and FN.\n",
        "3. Estimate profit (benefits - costs) using a defined cost-benefit matrix and a confusion matrix for:\n",
        "  - all customers\n",
        "  - only the customer predicted to answer\n",
        "\n",
        "Of course, for this lab we'll be using the MegaTelCo data, in which case the target is `leave` not `answer`.  \n",
        "\n",
        "Note that the first set of steps below is identical to what we did in the previous lab.\n",
        "\n",
        "\n"
      ]
    },
    {
      "cell_type": "markdown",
      "metadata": {
        "id": "UE93RwXhgiJS"
      },
      "source": [
        "#Load Libraries\n"
      ]
    },
    {
      "cell_type": "code",
      "execution_count": null,
      "metadata": {
        "id": "JYRZY5n0gfNe"
      },
      "outputs": [],
      "source": [
        "import pandas as pd\n",
        "from sklearn.tree import plot_tree\n",
        "from sklearn.preprocessing import LabelEncoder # for label encoding\n",
        "from sklearn.tree import DecisionTreeClassifier # Import Decision Tree Classifier\n",
        "from sklearn import tree\n"
      ]
    },
    {
      "cell_type": "markdown",
      "metadata": {
        "id": "bREaXo8jfu-O"
      },
      "source": [
        "# Get Data\n"
      ]
    },
    {
      "cell_type": "code",
      "execution_count": null,
      "metadata": {
        "id": "udYgkb6I3SJo"
      },
      "outputs": [],
      "source": [
        "mtc = pd.read_csv(\"https://raw.githubusercontent.com/jefftwebb/is_4487_base/dd870389117d5b24eee7417d5378d80496555130/Labs/DataSets/megatelco_leave_survey.csv\")"
      ]
    },
    {
      "cell_type": "markdown",
      "metadata": {
        "id": "BtxOWvFlKzgE"
      },
      "source": [
        "# Clean data\n"
      ]
    },
    {
      "cell_type": "code",
      "execution_count": null,
      "metadata": {
        "id": "7KXLvMcBK8Za"
      },
      "outputs": [],
      "source": [
        "# filter rows\n",
        "mtc_clean = mtc[(mtc['house'] > 0) & (mtc['income'] > 0) & (mtc['handset_price'] < 1000)]\n",
        "\n",
        "# remove NAs\n",
        "mtc_clean = mtc_clean.dropna()"
      ]
    },
    {
      "cell_type": "markdown",
      "metadata": {
        "id": "Zp7wGDqJ4iuL"
      },
      "source": [
        "# Fit full model\n",
        "\n",
        "Again, we will set `max_depth = 5` to keep the tree simple and prevent overfitting."
      ]
    },
    {
      "cell_type": "code",
      "execution_count": null,
      "metadata": {
        "id": "gvMekcKg4y5X"
      },
      "outputs": [],
      "source": [
        "# split the datafram into independent (X) and dependent (predicted) attributes (y)\n",
        "X = mtc_clean.drop(['id', 'leave'], axis=1)\n",
        "y = mtc_clean['leave']\n",
        "\n",
        "# Convert categorical variables to numeric\n",
        "le = LabelEncoder()\n",
        "for column in X.select_dtypes(include=['object']):\n",
        "    X[column] = le.fit_transform(X[column])\n",
        "\n",
        "# initialize the tree\n",
        "full_tree = DecisionTreeClassifier(criterion=\"entropy\", max_depth = 5)\n",
        "\n",
        "# Create Decision Tree Classifer\n",
        "full_tree = full_tree.fit(X, y)"
      ]
    },
    {
      "cell_type": "markdown",
      "metadata": {
        "id": "-I66jKusS_Xe"
      },
      "source": [
        "# Create a confusion matrix\n",
        "\n",
        "The confusion matrix will show counts of false positives, true positives, false negatives and true negatives. Essentially it provides a window into how the model is performing--where it is making mistakes.\n",
        "\n"
      ]
    },
    {
      "cell_type": "code",
      "source": [
        "# Get model predictions\n",
        "pred = full_tree.predict(X)\n"
      ],
      "metadata": {
        "id": "XaXPt2wmeJHQ"
      },
      "execution_count": null,
      "outputs": []
    },
    {
      "cell_type": "code",
      "source": [
        "# create a confusion matrix\n",
        "from sklearn.metrics import ConfusionMatrixDisplay\n",
        "\n",
        "ConfusionMatrixDisplay.from_predictions(y, pred)"
      ],
      "metadata": {
        "id": "RgZ_Mc3rUv-K"
      },
      "execution_count": null,
      "outputs": []
    },
    {
      "cell_type": "markdown",
      "source": [
        "Explanation of code:\n",
        "\n",
        "- `ConfusionMatrixDisplay.from_predictions(y, pred)`: creates a confusion matrix in a heatmap format."
      ],
      "metadata": {
        "id": "d8VYOWViuBSm"
      }
    },
    {
      "cell_type": "markdown",
      "source": [
        "It is typical to put the predictions in the columns.  But what matters is that you are able to identify the following categories--and associated counts-- from the table:\n",
        "\n",
        "- TP--predicted to leave and actually left:  1989\n",
        "- FP--predicted to leave but stayed:  946\n",
        "- TN--predicted to stay and stayed: 1580\n",
        "- FN--predicted to stay but left: 479   \n",
        "\n",
        "These numbers are related to accuracy.  (TP + TN)/ total = accuracy.  Let's check."
      ],
      "metadata": {
        "id": "D9PYLQg4m-RN"
      }
    },
    {
      "cell_type": "code",
      "source": [
        "# accuracy calculated from the confusion matrix\n",
        "(1989 + 1580)/len(y)"
      ],
      "metadata": {
        "id": "z2mR2u0gnPr_"
      },
      "execution_count": null,
      "outputs": []
    },
    {
      "cell_type": "code",
      "source": [
        "# accuracy calculated by comparing predictions and actual\n",
        "sum(pred == y)/len(y)"
      ],
      "metadata": {
        "id": "AcqhHvgHncN5"
      },
      "execution_count": null,
      "outputs": []
    },
    {
      "cell_type": "markdown",
      "metadata": {
        "id": "vTC161_b9kWm"
      },
      "source": [
        "# Calculate Profit\n",
        "\n",
        "Using the above confusion matrix how much profit (revenue - costs) could be expected with the following costs-benefits?\n",
        "\n",
        "For MegaTelCo we will assume:\n",
        "- benefit (revenue) = 800\n",
        "- cost = 200  \n",
        "\n",
        "TPs are a benefit, FPs are a cost. Again, we ignore those predicted to stay.\n",
        "\n",
        "Note that the cost-benefit numbers will be different in the AdviseInvest case!\n",
        "\n",
        "Why are TPs a benefit? In the MegaTelCo scenario, these are customers who are predicted to leave and actually were going to leave. If your marketing campaign is successful, then you can convince them to stay, thereby saving the company money. (In the AdviseInvest scenario, TPs are customers that you have predicted will answer the phone and do answer, thus providing an opportunity for your sales reps to make a sale.)\n",
        "\n",
        "**Assume you can save 100% of the people who were actually going to leave.**\n",
        "\n",
        "Here is the calculation:\n",
        "\n",
        "- Multiply TP (the true leavers) x 600 (benefit - cost).  These are the leave-leave people in the confusion matrix that you retained.\n",
        "- Multiply FP (the false leavers) x 200 (cost). These are the leave-stay people in the confusion matrix who churned."
      ]
    },
    {
      "cell_type": "code",
      "execution_count": null,
      "metadata": {
        "id": "y3BHSJu-9s8z"
      },
      "outputs": [],
      "source": [
        "1989 * (800-200) - 946 * 200"
      ]
    },
    {
      "cell_type": "markdown",
      "source": [
        "So, this strategy would show a profit of  about 1 million.  Of course we need to compare this against the default strategy not using a model at all and marketing to all customers.\n",
        "\n",
        "What would profit be in that case?"
      ],
      "metadata": {
        "id": "3cNzzRqSpu1Q"
      }
    },
    {
      "cell_type": "code",
      "source": [
        "sum(y==\"LEAVE\") * (800-200) - sum(y==\"STAY\") * 200"
      ],
      "metadata": {
        "id": "w8eEYPYks0xT"
      },
      "execution_count": null,
      "outputs": []
    },
    {
      "cell_type": "markdown",
      "source": [
        "So, it would be more profitable to use the model for targeted marketing."
      ],
      "metadata": {
        "id": "CZFbmqYEtJmJ"
      }
    },
    {
      "cell_type": "markdown",
      "source": [
        "# Functions\n",
        "\n",
        "- `pd.read_csv()`: Reads a CSV file into a pandas DataFrame\n",
        "- `dropna()`: Removes rows with missing values from a DataFrame\n",
        "- `drop()`: Removes specified labels from rows or columns in a DataFrame\n",
        "- `LabelEncoder()`: Encodes target labels with numeric values\n",
        "- `fit_transform()`: Fits label encoder and transforms the data\n",
        "- `DecisionTreeClassifier()`: Creates a decision tree classifier\n",
        "- `fit()`: Builds a decision tree classifier from the training set (`X`, `y`)\n",
        "- `predict()`: Predicts class labels for samples in `X`\n",
        "- `pd.crosstab()`: Computes a cross-tabulation of two or more factors\n",
        "- `sum()`: Returns the sum of a sequence of numbers\n",
        "- `len()`: Returns the number of items in an object\n"
      ],
      "metadata": {
        "id": "LOvXx2sguVuy"
      }
    }
  ],
  "metadata": {
    "colab": {
      "provenance": [],
      "toc_visible": true
    },
    "kernelspec": {
      "display_name": "Python 3",
      "name": "python3"
    },
    "language_info": {
      "name": "python"
    }
  },
  "nbformat": 4,
  "nbformat_minor": 0
}